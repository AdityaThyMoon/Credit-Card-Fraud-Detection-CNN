{
  "cells": [
    {
      "cell_type": "markdown",
      "metadata": {
        "id": "nlmHnmNinJ3Y"
      },
      "source": [
        "#Credit Card Fraud Detection CNN\n",
        "###Author: Aditya Moon\n",
        "###Description:\n",
        "#####This project aims to classify transactions as fraudulent/non-fraudulent using a convolutional neural network. The features of this dataset's values are present, but what the features are themselves is unknown, making this task more interesting...\n",
        "###Primary Objective:\n",
        "#####Detect as many fraudulent credit card transactions as possible. In terms of a confusion matrix, this obviously involves maximizing true positives. But it also involves minimizing false negatives (the number of fraudulent transactions that get flagged as non-fraudulent), potentially at the cost of having more false positives (recall vs. precision trade-off, in our case we'd prefer having a higher recall at the cost of a lower precision). Why do we prefer this? Imagine you are a banking customer for RaspberryBank. Would you rather have RaspberryBank send you a notification that your card was used for fraud when it was really you (false positive)? Or would you prefer that RaspberryBank **doesn't** send you a notification when your card was actually used for fraud (false negative)? Of course, the former is preferred, hence, why we prefer minimizing false negatives even at the potential expense of having more false positives.\n",
        "\n",
        "#####Maximizing true positives and minimizing false negatives statistically means that we want to achieve a **high recall score**.\n",
        "Recall definition: Recall is the percentage of positive instances correctly identified.\n",
        "\n",
        "---\n",
        "\n",
        "\n",
        "#####Link to the original dataset: https://www.kaggle.com/datasets/mlg-ulb/creditcardfraud"
      ]
    },
    {
      "cell_type": "markdown",
      "metadata": {
        "id": "FdO8wmsFnHiJ"
      },
      "source": [
        "#0. Imports and Settings"
      ]
    },
    {
      "cell_type": "code",
      "execution_count": 1,
      "metadata": {
        "colab": {
          "base_uri": "https://localhost:8080/"
        },
        "id": "eowIHn_gwurD",
        "outputId": "508e43c4-b236-4e6c-9125-b6abd5b08375"
      },
      "outputs": [
        {
          "output_type": "stream",
          "name": "stdout",
          "text": [
            "Collecting psycopg2-binary\n",
            "  Downloading psycopg2_binary-2.9.9-cp310-cp310-manylinux_2_17_x86_64.manylinux2014_x86_64.whl.metadata (4.4 kB)\n",
            "Requirement already satisfied: sqlalchemy in /usr/local/lib/python3.10/dist-packages (2.0.31)\n",
            "Requirement already satisfied: pandas in /usr/local/lib/python3.10/dist-packages (2.1.4)\n",
            "Requirement already satisfied: numpy in /usr/local/lib/python3.10/dist-packages (1.26.4)\n",
            "Requirement already satisfied: matplotlib in /usr/local/lib/python3.10/dist-packages (3.7.1)\n",
            "Requirement already satisfied: seaborn in /usr/local/lib/python3.10/dist-packages (0.13.1)\n",
            "Collecting pyspark\n",
            "  Downloading pyspark-3.5.1.tar.gz (317.0 MB)\n",
            "\u001b[2K     \u001b[90m━━━━━━━━━━━━━━━━━━━━━━━━━━━━━━━━━━━━━━━━\u001b[0m \u001b[32m317.0/317.0 MB\u001b[0m \u001b[31m3.4 MB/s\u001b[0m eta \u001b[36m0:00:00\u001b[0m\n",
            "\u001b[?25h  Preparing metadata (setup.py) ... \u001b[?25l\u001b[?25hdone\n",
            "Requirement already satisfied: scikit-learn in /usr/local/lib/python3.10/dist-packages (1.3.2)\n",
            "Requirement already satisfied: torch in /usr/local/lib/python3.10/dist-packages (2.3.1+cu121)\n",
            "Requirement already satisfied: kaggle in /usr/local/lib/python3.10/dist-packages (1.6.17)\n",
            "Requirement already satisfied: typing-extensions>=4.6.0 in /usr/local/lib/python3.10/dist-packages (from sqlalchemy) (4.12.2)\n",
            "Requirement already satisfied: greenlet!=0.4.17 in /usr/local/lib/python3.10/dist-packages (from sqlalchemy) (3.0.3)\n",
            "Requirement already satisfied: python-dateutil>=2.8.2 in /usr/local/lib/python3.10/dist-packages (from pandas) (2.8.2)\n",
            "Requirement already satisfied: pytz>=2020.1 in /usr/local/lib/python3.10/dist-packages (from pandas) (2024.1)\n",
            "Requirement already satisfied: tzdata>=2022.1 in /usr/local/lib/python3.10/dist-packages (from pandas) (2024.1)\n",
            "Requirement already satisfied: contourpy>=1.0.1 in /usr/local/lib/python3.10/dist-packages (from matplotlib) (1.2.1)\n",
            "Requirement already satisfied: cycler>=0.10 in /usr/local/lib/python3.10/dist-packages (from matplotlib) (0.12.1)\n",
            "Requirement already satisfied: fonttools>=4.22.0 in /usr/local/lib/python3.10/dist-packages (from matplotlib) (4.53.1)\n",
            "Requirement already satisfied: kiwisolver>=1.0.1 in /usr/local/lib/python3.10/dist-packages (from matplotlib) (1.4.5)\n",
            "Requirement already satisfied: packaging>=20.0 in /usr/local/lib/python3.10/dist-packages (from matplotlib) (24.1)\n",
            "Requirement already satisfied: pillow>=6.2.0 in /usr/local/lib/python3.10/dist-packages (from matplotlib) (9.4.0)\n",
            "Requirement already satisfied: pyparsing>=2.3.1 in /usr/local/lib/python3.10/dist-packages (from matplotlib) (3.1.2)\n",
            "Requirement already satisfied: py4j==0.10.9.7 in /usr/local/lib/python3.10/dist-packages (from pyspark) (0.10.9.7)\n",
            "Requirement already satisfied: scipy>=1.5.0 in /usr/local/lib/python3.10/dist-packages (from scikit-learn) (1.13.1)\n",
            "Requirement already satisfied: joblib>=1.1.1 in /usr/local/lib/python3.10/dist-packages (from scikit-learn) (1.4.2)\n",
            "Requirement already satisfied: threadpoolctl>=2.0.0 in /usr/local/lib/python3.10/dist-packages (from scikit-learn) (3.5.0)\n",
            "Requirement already satisfied: filelock in /usr/local/lib/python3.10/dist-packages (from torch) (3.15.4)\n",
            "Requirement already satisfied: sympy in /usr/local/lib/python3.10/dist-packages (from torch) (1.13.1)\n",
            "Requirement already satisfied: networkx in /usr/local/lib/python3.10/dist-packages (from torch) (3.3)\n",
            "Requirement already satisfied: jinja2 in /usr/local/lib/python3.10/dist-packages (from torch) (3.1.4)\n",
            "Requirement already satisfied: fsspec in /usr/local/lib/python3.10/dist-packages (from torch) (2024.6.1)\n",
            "Collecting nvidia-cuda-nvrtc-cu12==12.1.105 (from torch)\n",
            "  Using cached nvidia_cuda_nvrtc_cu12-12.1.105-py3-none-manylinux1_x86_64.whl.metadata (1.5 kB)\n",
            "Collecting nvidia-cuda-runtime-cu12==12.1.105 (from torch)\n",
            "  Using cached nvidia_cuda_runtime_cu12-12.1.105-py3-none-manylinux1_x86_64.whl.metadata (1.5 kB)\n",
            "Collecting nvidia-cuda-cupti-cu12==12.1.105 (from torch)\n",
            "  Using cached nvidia_cuda_cupti_cu12-12.1.105-py3-none-manylinux1_x86_64.whl.metadata (1.6 kB)\n",
            "Collecting nvidia-cudnn-cu12==8.9.2.26 (from torch)\n",
            "  Using cached nvidia_cudnn_cu12-8.9.2.26-py3-none-manylinux1_x86_64.whl.metadata (1.6 kB)\n",
            "Collecting nvidia-cublas-cu12==12.1.3.1 (from torch)\n",
            "  Using cached nvidia_cublas_cu12-12.1.3.1-py3-none-manylinux1_x86_64.whl.metadata (1.5 kB)\n",
            "Collecting nvidia-cufft-cu12==11.0.2.54 (from torch)\n",
            "  Using cached nvidia_cufft_cu12-11.0.2.54-py3-none-manylinux1_x86_64.whl.metadata (1.5 kB)\n",
            "Collecting nvidia-curand-cu12==10.3.2.106 (from torch)\n",
            "  Using cached nvidia_curand_cu12-10.3.2.106-py3-none-manylinux1_x86_64.whl.metadata (1.5 kB)\n",
            "Collecting nvidia-cusolver-cu12==11.4.5.107 (from torch)\n",
            "  Using cached nvidia_cusolver_cu12-11.4.5.107-py3-none-manylinux1_x86_64.whl.metadata (1.6 kB)\n",
            "Collecting nvidia-cusparse-cu12==12.1.0.106 (from torch)\n",
            "  Using cached nvidia_cusparse_cu12-12.1.0.106-py3-none-manylinux1_x86_64.whl.metadata (1.6 kB)\n",
            "Collecting nvidia-nccl-cu12==2.20.5 (from torch)\n",
            "  Using cached nvidia_nccl_cu12-2.20.5-py3-none-manylinux2014_x86_64.whl.metadata (1.8 kB)\n",
            "Collecting nvidia-nvtx-cu12==12.1.105 (from torch)\n",
            "  Using cached nvidia_nvtx_cu12-12.1.105-py3-none-manylinux1_x86_64.whl.metadata (1.7 kB)\n",
            "Requirement already satisfied: triton==2.3.1 in /usr/local/lib/python3.10/dist-packages (from torch) (2.3.1)\n",
            "Collecting nvidia-nvjitlink-cu12 (from nvidia-cusolver-cu12==11.4.5.107->torch)\n",
            "  Using cached nvidia_nvjitlink_cu12-12.6.20-py3-none-manylinux2014_x86_64.whl.metadata (1.5 kB)\n",
            "Requirement already satisfied: six>=1.10 in /usr/local/lib/python3.10/dist-packages (from kaggle) (1.16.0)\n",
            "Requirement already satisfied: certifi>=2023.7.22 in /usr/local/lib/python3.10/dist-packages (from kaggle) (2024.7.4)\n",
            "Requirement already satisfied: requests in /usr/local/lib/python3.10/dist-packages (from kaggle) (2.32.3)\n",
            "Requirement already satisfied: tqdm in /usr/local/lib/python3.10/dist-packages (from kaggle) (4.66.5)\n",
            "Requirement already satisfied: python-slugify in /usr/local/lib/python3.10/dist-packages (from kaggle) (8.0.4)\n",
            "Requirement already satisfied: urllib3 in /usr/local/lib/python3.10/dist-packages (from kaggle) (2.0.7)\n",
            "Requirement already satisfied: bleach in /usr/local/lib/python3.10/dist-packages (from kaggle) (6.1.0)\n",
            "Requirement already satisfied: webencodings in /usr/local/lib/python3.10/dist-packages (from bleach->kaggle) (0.5.1)\n",
            "Requirement already satisfied: MarkupSafe>=2.0 in /usr/local/lib/python3.10/dist-packages (from jinja2->torch) (2.1.5)\n",
            "Requirement already satisfied: text-unidecode>=1.3 in /usr/local/lib/python3.10/dist-packages (from python-slugify->kaggle) (1.3)\n",
            "Requirement already satisfied: charset-normalizer<4,>=2 in /usr/local/lib/python3.10/dist-packages (from requests->kaggle) (3.3.2)\n",
            "Requirement already satisfied: idna<4,>=2.5 in /usr/local/lib/python3.10/dist-packages (from requests->kaggle) (3.7)\n",
            "Requirement already satisfied: mpmath<1.4,>=1.1.0 in /usr/local/lib/python3.10/dist-packages (from sympy->torch) (1.3.0)\n",
            "Downloading psycopg2_binary-2.9.9-cp310-cp310-manylinux_2_17_x86_64.manylinux2014_x86_64.whl (3.0 MB)\n",
            "\u001b[2K   \u001b[90m━━━━━━━━━━━━━━━━━━━━━━━━━━━━━━━━━━━━━━━━\u001b[0m \u001b[32m3.0/3.0 MB\u001b[0m \u001b[31m9.5 MB/s\u001b[0m eta \u001b[36m0:00:00\u001b[0m\n",
            "\u001b[?25hUsing cached nvidia_cublas_cu12-12.1.3.1-py3-none-manylinux1_x86_64.whl (410.6 MB)\n",
            "Using cached nvidia_cuda_cupti_cu12-12.1.105-py3-none-manylinux1_x86_64.whl (14.1 MB)\n",
            "Using cached nvidia_cuda_nvrtc_cu12-12.1.105-py3-none-manylinux1_x86_64.whl (23.7 MB)\n",
            "Using cached nvidia_cuda_runtime_cu12-12.1.105-py3-none-manylinux1_x86_64.whl (823 kB)\n",
            "Using cached nvidia_cudnn_cu12-8.9.2.26-py3-none-manylinux1_x86_64.whl (731.7 MB)\n",
            "Using cached nvidia_cufft_cu12-11.0.2.54-py3-none-manylinux1_x86_64.whl (121.6 MB)\n",
            "Using cached nvidia_curand_cu12-10.3.2.106-py3-none-manylinux1_x86_64.whl (56.5 MB)\n",
            "Using cached nvidia_cusolver_cu12-11.4.5.107-py3-none-manylinux1_x86_64.whl (124.2 MB)\n",
            "Using cached nvidia_cusparse_cu12-12.1.0.106-py3-none-manylinux1_x86_64.whl (196.0 MB)\n",
            "Using cached nvidia_nccl_cu12-2.20.5-py3-none-manylinux2014_x86_64.whl (176.2 MB)\n",
            "Using cached nvidia_nvtx_cu12-12.1.105-py3-none-manylinux1_x86_64.whl (99 kB)\n",
            "Using cached nvidia_nvjitlink_cu12-12.6.20-py3-none-manylinux2014_x86_64.whl (19.7 MB)\n",
            "Building wheels for collected packages: pyspark\n",
            "  Building wheel for pyspark (setup.py) ... \u001b[?25l\u001b[?25hdone\n",
            "  Created wheel for pyspark: filename=pyspark-3.5.1-py2.py3-none-any.whl size=317488493 sha256=9be8136cd44e7038c0549fbf49e056be9424a9d104ec76fdf395e985db0cfd90\n",
            "  Stored in directory: /root/.cache/pip/wheels/80/1d/60/2c256ed38dddce2fdd93be545214a63e02fbd8d74fb0b7f3a6\n",
            "Successfully built pyspark\n",
            "Installing collected packages: pyspark, psycopg2-binary, nvidia-nvtx-cu12, nvidia-nvjitlink-cu12, nvidia-nccl-cu12, nvidia-curand-cu12, nvidia-cufft-cu12, nvidia-cuda-runtime-cu12, nvidia-cuda-nvrtc-cu12, nvidia-cuda-cupti-cu12, nvidia-cublas-cu12, nvidia-cusparse-cu12, nvidia-cudnn-cu12, nvidia-cusolver-cu12\n",
            "Successfully installed nvidia-cublas-cu12-12.1.3.1 nvidia-cuda-cupti-cu12-12.1.105 nvidia-cuda-nvrtc-cu12-12.1.105 nvidia-cuda-runtime-cu12-12.1.105 nvidia-cudnn-cu12-8.9.2.26 nvidia-cufft-cu12-11.0.2.54 nvidia-curand-cu12-10.3.2.106 nvidia-cusolver-cu12-11.4.5.107 nvidia-cusparse-cu12-12.1.0.106 nvidia-nccl-cu12-2.20.5 nvidia-nvjitlink-cu12-12.6.20 nvidia-nvtx-cu12-12.1.105 psycopg2-binary-2.9.9 pyspark-3.5.1\n",
            "Dataset URL: https://www.kaggle.com/datasets/mlg-ulb/creditcardfraud\n",
            "License(s): DbCL-1.0\n",
            "Downloading creditcardfraud.zip to /content\n",
            " 97% 64.0M/66.0M [00:00<00:00, 174MB/s]\n",
            "100% 66.0M/66.0M [00:00<00:00, 166MB/s]\n",
            "Archive:  creditcardfraud.zip\n",
            "  inflating: creditcard.csv          \n"
          ]
        }
      ],
      "source": [
        "! pip install psycopg2-binary sqlalchemy pandas numpy matplotlib seaborn pyspark scikit-learn torch kaggle\n",
        "! mkdir ~/.kaggle\n",
        "! kaggle datasets download \"mlg-ulb/creditcardfraud\" --force\n",
        "! unzip creditcardfraud.zip"
      ]
    },
    {
      "cell_type": "code",
      "execution_count": 2,
      "metadata": {
        "colab": {
          "base_uri": "https://localhost:8080/",
          "height": 34
        },
        "id": "iMGB1fNN9TV2",
        "outputId": "444cc06b-7e6f-4ee1-aee7-dcc51a33ad7d"
      },
      "outputs": [
        {
          "output_type": "display_data",
          "data": {
            "application/javascript": [
              "IPython.notebook.set_autosave_interval(60000)"
            ]
          },
          "metadata": {}
        },
        {
          "output_type": "stream",
          "name": "stdout",
          "text": [
            "Autosaving every 60 seconds\n"
          ]
        }
      ],
      "source": [
        "%autosave 60"
      ]
    },
    {
      "cell_type": "code",
      "execution_count": 3,
      "metadata": {
        "id": "tGxCkdetznH8"
      },
      "outputs": [],
      "source": [
        "import pandas as pd\n",
        "import numpy as np\n",
        "import matplotlib.pyplot as plt\n",
        "import seaborn as sns\n",
        "import datetime\n",
        "\n",
        "df = pd.read_csv(\"creditcard.csv\")\n",
        "plt.style.use(\"ggplot\")\n",
        "pd.set_option(\"display.max_columns\", 50)\n",
        "\n",
        "pd.set_option(\"display.expand_frame_repr\", False)\n",
        "pd.set_option(\"display.width\", 1000)"
      ]
    },
    {
      "cell_type": "code",
      "execution_count": 4,
      "metadata": {
        "id": "XZCUg0AqhR9Q"
      },
      "outputs": [],
      "source": [
        "import torch\n",
        "from torch.utils.data import Dataset, DataLoader\n",
        "import torch.nn as nn\n",
        "import torch.optim as optim\n",
        "\n",
        "def set_seed(seed):\n",
        "    np.random.seed(seed)\n",
        "    torch.manual_seed(seed)\n",
        "\n",
        "set_seed(24) #my lucky number"
      ]
    },
    {
      "cell_type": "markdown",
      "metadata": {
        "id": "XsE-4HphocRg"
      },
      "source": [
        "#1. Data Understanding\n",
        "###Let's get an idea of what we are working with!"
      ]
    },
    {
      "cell_type": "code",
      "execution_count": 5,
      "metadata": {
        "colab": {
          "base_uri": "https://localhost:8080/",
          "height": 224
        },
        "id": "ewTXpaDz9g5M",
        "outputId": "7e612611-da18-4bb0-b9c1-6c2797254bc9"
      },
      "outputs": [
        {
          "output_type": "execute_result",
          "data": {
            "text/plain": [
              "   Time        V1        V2        V3        V4        V5        V6        V7        V8        V9       V10       V11       V12       V13       V14       V15       V16       V17       V18       V19       V20       V21       V22       V23       V24       V25       V26       V27       V28  Amount  Class\n",
              "0   0.0 -1.359807 -0.072781  2.536347  1.378155 -0.338321  0.462388  0.239599  0.098698  0.363787  0.090794 -0.551600 -0.617801 -0.991390 -0.311169  1.468177 -0.470401  0.207971  0.025791  0.403993  0.251412 -0.018307  0.277838 -0.110474  0.066928  0.128539 -0.189115  0.133558 -0.021053  149.62      0\n",
              "1   0.0  1.191857  0.266151  0.166480  0.448154  0.060018 -0.082361 -0.078803  0.085102 -0.255425 -0.166974  1.612727  1.065235  0.489095 -0.143772  0.635558  0.463917 -0.114805 -0.183361 -0.145783 -0.069083 -0.225775 -0.638672  0.101288 -0.339846  0.167170  0.125895 -0.008983  0.014724    2.69      0\n",
              "2   1.0 -1.358354 -1.340163  1.773209  0.379780 -0.503198  1.800499  0.791461  0.247676 -1.514654  0.207643  0.624501  0.066084  0.717293 -0.165946  2.345865 -2.890083  1.109969 -0.121359 -2.261857  0.524980  0.247998  0.771679  0.909412 -0.689281 -0.327642 -0.139097 -0.055353 -0.059752  378.66      0\n",
              "3   1.0 -0.966272 -0.185226  1.792993 -0.863291 -0.010309  1.247203  0.237609  0.377436 -1.387024 -0.054952 -0.226487  0.178228  0.507757 -0.287924 -0.631418 -1.059647 -0.684093  1.965775 -1.232622 -0.208038 -0.108300  0.005274 -0.190321 -1.175575  0.647376 -0.221929  0.062723  0.061458  123.50      0\n",
              "4   2.0 -1.158233  0.877737  1.548718  0.403034 -0.407193  0.095921  0.592941 -0.270533  0.817739  0.753074 -0.822843  0.538196  1.345852 -1.119670  0.175121 -0.451449 -0.237033 -0.038195  0.803487  0.408542 -0.009431  0.798278 -0.137458  0.141267 -0.206010  0.502292  0.219422  0.215153   69.99      0"
            ],
            "text/html": [
              "\n",
              "  <div id=\"df-58bdef31-2523-4308-9021-9dcb60c1d6a2\" class=\"colab-df-container\">\n",
              "    <div>\n",
              "<style scoped>\n",
              "    .dataframe tbody tr th:only-of-type {\n",
              "        vertical-align: middle;\n",
              "    }\n",
              "\n",
              "    .dataframe tbody tr th {\n",
              "        vertical-align: top;\n",
              "    }\n",
              "\n",
              "    .dataframe thead th {\n",
              "        text-align: right;\n",
              "    }\n",
              "</style>\n",
              "<table border=\"1\" class=\"dataframe\">\n",
              "  <thead>\n",
              "    <tr style=\"text-align: right;\">\n",
              "      <th></th>\n",
              "      <th>Time</th>\n",
              "      <th>V1</th>\n",
              "      <th>V2</th>\n",
              "      <th>V3</th>\n",
              "      <th>V4</th>\n",
              "      <th>V5</th>\n",
              "      <th>V6</th>\n",
              "      <th>V7</th>\n",
              "      <th>V8</th>\n",
              "      <th>V9</th>\n",
              "      <th>V10</th>\n",
              "      <th>V11</th>\n",
              "      <th>V12</th>\n",
              "      <th>V13</th>\n",
              "      <th>V14</th>\n",
              "      <th>V15</th>\n",
              "      <th>V16</th>\n",
              "      <th>V17</th>\n",
              "      <th>V18</th>\n",
              "      <th>V19</th>\n",
              "      <th>V20</th>\n",
              "      <th>V21</th>\n",
              "      <th>V22</th>\n",
              "      <th>V23</th>\n",
              "      <th>V24</th>\n",
              "      <th>V25</th>\n",
              "      <th>V26</th>\n",
              "      <th>V27</th>\n",
              "      <th>V28</th>\n",
              "      <th>Amount</th>\n",
              "      <th>Class</th>\n",
              "    </tr>\n",
              "  </thead>\n",
              "  <tbody>\n",
              "    <tr>\n",
              "      <th>0</th>\n",
              "      <td>0.0</td>\n",
              "      <td>-1.359807</td>\n",
              "      <td>-0.072781</td>\n",
              "      <td>2.536347</td>\n",
              "      <td>1.378155</td>\n",
              "      <td>-0.338321</td>\n",
              "      <td>0.462388</td>\n",
              "      <td>0.239599</td>\n",
              "      <td>0.098698</td>\n",
              "      <td>0.363787</td>\n",
              "      <td>0.090794</td>\n",
              "      <td>-0.551600</td>\n",
              "      <td>-0.617801</td>\n",
              "      <td>-0.991390</td>\n",
              "      <td>-0.311169</td>\n",
              "      <td>1.468177</td>\n",
              "      <td>-0.470401</td>\n",
              "      <td>0.207971</td>\n",
              "      <td>0.025791</td>\n",
              "      <td>0.403993</td>\n",
              "      <td>0.251412</td>\n",
              "      <td>-0.018307</td>\n",
              "      <td>0.277838</td>\n",
              "      <td>-0.110474</td>\n",
              "      <td>0.066928</td>\n",
              "      <td>0.128539</td>\n",
              "      <td>-0.189115</td>\n",
              "      <td>0.133558</td>\n",
              "      <td>-0.021053</td>\n",
              "      <td>149.62</td>\n",
              "      <td>0</td>\n",
              "    </tr>\n",
              "    <tr>\n",
              "      <th>1</th>\n",
              "      <td>0.0</td>\n",
              "      <td>1.191857</td>\n",
              "      <td>0.266151</td>\n",
              "      <td>0.166480</td>\n",
              "      <td>0.448154</td>\n",
              "      <td>0.060018</td>\n",
              "      <td>-0.082361</td>\n",
              "      <td>-0.078803</td>\n",
              "      <td>0.085102</td>\n",
              "      <td>-0.255425</td>\n",
              "      <td>-0.166974</td>\n",
              "      <td>1.612727</td>\n",
              "      <td>1.065235</td>\n",
              "      <td>0.489095</td>\n",
              "      <td>-0.143772</td>\n",
              "      <td>0.635558</td>\n",
              "      <td>0.463917</td>\n",
              "      <td>-0.114805</td>\n",
              "      <td>-0.183361</td>\n",
              "      <td>-0.145783</td>\n",
              "      <td>-0.069083</td>\n",
              "      <td>-0.225775</td>\n",
              "      <td>-0.638672</td>\n",
              "      <td>0.101288</td>\n",
              "      <td>-0.339846</td>\n",
              "      <td>0.167170</td>\n",
              "      <td>0.125895</td>\n",
              "      <td>-0.008983</td>\n",
              "      <td>0.014724</td>\n",
              "      <td>2.69</td>\n",
              "      <td>0</td>\n",
              "    </tr>\n",
              "    <tr>\n",
              "      <th>2</th>\n",
              "      <td>1.0</td>\n",
              "      <td>-1.358354</td>\n",
              "      <td>-1.340163</td>\n",
              "      <td>1.773209</td>\n",
              "      <td>0.379780</td>\n",
              "      <td>-0.503198</td>\n",
              "      <td>1.800499</td>\n",
              "      <td>0.791461</td>\n",
              "      <td>0.247676</td>\n",
              "      <td>-1.514654</td>\n",
              "      <td>0.207643</td>\n",
              "      <td>0.624501</td>\n",
              "      <td>0.066084</td>\n",
              "      <td>0.717293</td>\n",
              "      <td>-0.165946</td>\n",
              "      <td>2.345865</td>\n",
              "      <td>-2.890083</td>\n",
              "      <td>1.109969</td>\n",
              "      <td>-0.121359</td>\n",
              "      <td>-2.261857</td>\n",
              "      <td>0.524980</td>\n",
              "      <td>0.247998</td>\n",
              "      <td>0.771679</td>\n",
              "      <td>0.909412</td>\n",
              "      <td>-0.689281</td>\n",
              "      <td>-0.327642</td>\n",
              "      <td>-0.139097</td>\n",
              "      <td>-0.055353</td>\n",
              "      <td>-0.059752</td>\n",
              "      <td>378.66</td>\n",
              "      <td>0</td>\n",
              "    </tr>\n",
              "    <tr>\n",
              "      <th>3</th>\n",
              "      <td>1.0</td>\n",
              "      <td>-0.966272</td>\n",
              "      <td>-0.185226</td>\n",
              "      <td>1.792993</td>\n",
              "      <td>-0.863291</td>\n",
              "      <td>-0.010309</td>\n",
              "      <td>1.247203</td>\n",
              "      <td>0.237609</td>\n",
              "      <td>0.377436</td>\n",
              "      <td>-1.387024</td>\n",
              "      <td>-0.054952</td>\n",
              "      <td>-0.226487</td>\n",
              "      <td>0.178228</td>\n",
              "      <td>0.507757</td>\n",
              "      <td>-0.287924</td>\n",
              "      <td>-0.631418</td>\n",
              "      <td>-1.059647</td>\n",
              "      <td>-0.684093</td>\n",
              "      <td>1.965775</td>\n",
              "      <td>-1.232622</td>\n",
              "      <td>-0.208038</td>\n",
              "      <td>-0.108300</td>\n",
              "      <td>0.005274</td>\n",
              "      <td>-0.190321</td>\n",
              "      <td>-1.175575</td>\n",
              "      <td>0.647376</td>\n",
              "      <td>-0.221929</td>\n",
              "      <td>0.062723</td>\n",
              "      <td>0.061458</td>\n",
              "      <td>123.50</td>\n",
              "      <td>0</td>\n",
              "    </tr>\n",
              "    <tr>\n",
              "      <th>4</th>\n",
              "      <td>2.0</td>\n",
              "      <td>-1.158233</td>\n",
              "      <td>0.877737</td>\n",
              "      <td>1.548718</td>\n",
              "      <td>0.403034</td>\n",
              "      <td>-0.407193</td>\n",
              "      <td>0.095921</td>\n",
              "      <td>0.592941</td>\n",
              "      <td>-0.270533</td>\n",
              "      <td>0.817739</td>\n",
              "      <td>0.753074</td>\n",
              "      <td>-0.822843</td>\n",
              "      <td>0.538196</td>\n",
              "      <td>1.345852</td>\n",
              "      <td>-1.119670</td>\n",
              "      <td>0.175121</td>\n",
              "      <td>-0.451449</td>\n",
              "      <td>-0.237033</td>\n",
              "      <td>-0.038195</td>\n",
              "      <td>0.803487</td>\n",
              "      <td>0.408542</td>\n",
              "      <td>-0.009431</td>\n",
              "      <td>0.798278</td>\n",
              "      <td>-0.137458</td>\n",
              "      <td>0.141267</td>\n",
              "      <td>-0.206010</td>\n",
              "      <td>0.502292</td>\n",
              "      <td>0.219422</td>\n",
              "      <td>0.215153</td>\n",
              "      <td>69.99</td>\n",
              "      <td>0</td>\n",
              "    </tr>\n",
              "  </tbody>\n",
              "</table>\n",
              "</div>\n",
              "    <div class=\"colab-df-buttons\">\n",
              "\n",
              "  <div class=\"colab-df-container\">\n",
              "    <button class=\"colab-df-convert\" onclick=\"convertToInteractive('df-58bdef31-2523-4308-9021-9dcb60c1d6a2')\"\n",
              "            title=\"Convert this dataframe to an interactive table.\"\n",
              "            style=\"display:none;\">\n",
              "\n",
              "  <svg xmlns=\"http://www.w3.org/2000/svg\" height=\"24px\" viewBox=\"0 -960 960 960\">\n",
              "    <path d=\"M120-120v-720h720v720H120Zm60-500h600v-160H180v160Zm220 220h160v-160H400v160Zm0 220h160v-160H400v160ZM180-400h160v-160H180v160Zm440 0h160v-160H620v160ZM180-180h160v-160H180v160Zm440 0h160v-160H620v160Z\"/>\n",
              "  </svg>\n",
              "    </button>\n",
              "\n",
              "  <style>\n",
              "    .colab-df-container {\n",
              "      display:flex;\n",
              "      gap: 12px;\n",
              "    }\n",
              "\n",
              "    .colab-df-convert {\n",
              "      background-color: #E8F0FE;\n",
              "      border: none;\n",
              "      border-radius: 50%;\n",
              "      cursor: pointer;\n",
              "      display: none;\n",
              "      fill: #1967D2;\n",
              "      height: 32px;\n",
              "      padding: 0 0 0 0;\n",
              "      width: 32px;\n",
              "    }\n",
              "\n",
              "    .colab-df-convert:hover {\n",
              "      background-color: #E2EBFA;\n",
              "      box-shadow: 0px 1px 2px rgba(60, 64, 67, 0.3), 0px 1px 3px 1px rgba(60, 64, 67, 0.15);\n",
              "      fill: #174EA6;\n",
              "    }\n",
              "\n",
              "    .colab-df-buttons div {\n",
              "      margin-bottom: 4px;\n",
              "    }\n",
              "\n",
              "    [theme=dark] .colab-df-convert {\n",
              "      background-color: #3B4455;\n",
              "      fill: #D2E3FC;\n",
              "    }\n",
              "\n",
              "    [theme=dark] .colab-df-convert:hover {\n",
              "      background-color: #434B5C;\n",
              "      box-shadow: 0px 1px 3px 1px rgba(0, 0, 0, 0.15);\n",
              "      filter: drop-shadow(0px 1px 2px rgba(0, 0, 0, 0.3));\n",
              "      fill: #FFFFFF;\n",
              "    }\n",
              "  </style>\n",
              "\n",
              "    <script>\n",
              "      const buttonEl =\n",
              "        document.querySelector('#df-58bdef31-2523-4308-9021-9dcb60c1d6a2 button.colab-df-convert');\n",
              "      buttonEl.style.display =\n",
              "        google.colab.kernel.accessAllowed ? 'block' : 'none';\n",
              "\n",
              "      async function convertToInteractive(key) {\n",
              "        const element = document.querySelector('#df-58bdef31-2523-4308-9021-9dcb60c1d6a2');\n",
              "        const dataTable =\n",
              "          await google.colab.kernel.invokeFunction('convertToInteractive',\n",
              "                                                    [key], {});\n",
              "        if (!dataTable) return;\n",
              "\n",
              "        const docLinkHtml = 'Like what you see? Visit the ' +\n",
              "          '<a target=\"_blank\" href=https://colab.research.google.com/notebooks/data_table.ipynb>data table notebook</a>'\n",
              "          + ' to learn more about interactive tables.';\n",
              "        element.innerHTML = '';\n",
              "        dataTable['output_type'] = 'display_data';\n",
              "        await google.colab.output.renderOutput(dataTable, element);\n",
              "        const docLink = document.createElement('div');\n",
              "        docLink.innerHTML = docLinkHtml;\n",
              "        element.appendChild(docLink);\n",
              "      }\n",
              "    </script>\n",
              "  </div>\n",
              "\n",
              "\n",
              "<div id=\"df-060f8b77-e316-4d11-a807-9a31e935f977\">\n",
              "  <button class=\"colab-df-quickchart\" onclick=\"quickchart('df-060f8b77-e316-4d11-a807-9a31e935f977')\"\n",
              "            title=\"Suggest charts\"\n",
              "            style=\"display:none;\">\n",
              "\n",
              "<svg xmlns=\"http://www.w3.org/2000/svg\" height=\"24px\"viewBox=\"0 0 24 24\"\n",
              "     width=\"24px\">\n",
              "    <g>\n",
              "        <path d=\"M19 3H5c-1.1 0-2 .9-2 2v14c0 1.1.9 2 2 2h14c1.1 0 2-.9 2-2V5c0-1.1-.9-2-2-2zM9 17H7v-7h2v7zm4 0h-2V7h2v10zm4 0h-2v-4h2v4z\"/>\n",
              "    </g>\n",
              "</svg>\n",
              "  </button>\n",
              "\n",
              "<style>\n",
              "  .colab-df-quickchart {\n",
              "      --bg-color: #E8F0FE;\n",
              "      --fill-color: #1967D2;\n",
              "      --hover-bg-color: #E2EBFA;\n",
              "      --hover-fill-color: #174EA6;\n",
              "      --disabled-fill-color: #AAA;\n",
              "      --disabled-bg-color: #DDD;\n",
              "  }\n",
              "\n",
              "  [theme=dark] .colab-df-quickchart {\n",
              "      --bg-color: #3B4455;\n",
              "      --fill-color: #D2E3FC;\n",
              "      --hover-bg-color: #434B5C;\n",
              "      --hover-fill-color: #FFFFFF;\n",
              "      --disabled-bg-color: #3B4455;\n",
              "      --disabled-fill-color: #666;\n",
              "  }\n",
              "\n",
              "  .colab-df-quickchart {\n",
              "    background-color: var(--bg-color);\n",
              "    border: none;\n",
              "    border-radius: 50%;\n",
              "    cursor: pointer;\n",
              "    display: none;\n",
              "    fill: var(--fill-color);\n",
              "    height: 32px;\n",
              "    padding: 0;\n",
              "    width: 32px;\n",
              "  }\n",
              "\n",
              "  .colab-df-quickchart:hover {\n",
              "    background-color: var(--hover-bg-color);\n",
              "    box-shadow: 0 1px 2px rgba(60, 64, 67, 0.3), 0 1px 3px 1px rgba(60, 64, 67, 0.15);\n",
              "    fill: var(--button-hover-fill-color);\n",
              "  }\n",
              "\n",
              "  .colab-df-quickchart-complete:disabled,\n",
              "  .colab-df-quickchart-complete:disabled:hover {\n",
              "    background-color: var(--disabled-bg-color);\n",
              "    fill: var(--disabled-fill-color);\n",
              "    box-shadow: none;\n",
              "  }\n",
              "\n",
              "  .colab-df-spinner {\n",
              "    border: 2px solid var(--fill-color);\n",
              "    border-color: transparent;\n",
              "    border-bottom-color: var(--fill-color);\n",
              "    animation:\n",
              "      spin 1s steps(1) infinite;\n",
              "  }\n",
              "\n",
              "  @keyframes spin {\n",
              "    0% {\n",
              "      border-color: transparent;\n",
              "      border-bottom-color: var(--fill-color);\n",
              "      border-left-color: var(--fill-color);\n",
              "    }\n",
              "    20% {\n",
              "      border-color: transparent;\n",
              "      border-left-color: var(--fill-color);\n",
              "      border-top-color: var(--fill-color);\n",
              "    }\n",
              "    30% {\n",
              "      border-color: transparent;\n",
              "      border-left-color: var(--fill-color);\n",
              "      border-top-color: var(--fill-color);\n",
              "      border-right-color: var(--fill-color);\n",
              "    }\n",
              "    40% {\n",
              "      border-color: transparent;\n",
              "      border-right-color: var(--fill-color);\n",
              "      border-top-color: var(--fill-color);\n",
              "    }\n",
              "    60% {\n",
              "      border-color: transparent;\n",
              "      border-right-color: var(--fill-color);\n",
              "    }\n",
              "    80% {\n",
              "      border-color: transparent;\n",
              "      border-right-color: var(--fill-color);\n",
              "      border-bottom-color: var(--fill-color);\n",
              "    }\n",
              "    90% {\n",
              "      border-color: transparent;\n",
              "      border-bottom-color: var(--fill-color);\n",
              "    }\n",
              "  }\n",
              "</style>\n",
              "\n",
              "  <script>\n",
              "    async function quickchart(key) {\n",
              "      const quickchartButtonEl =\n",
              "        document.querySelector('#' + key + ' button');\n",
              "      quickchartButtonEl.disabled = true;  // To prevent multiple clicks.\n",
              "      quickchartButtonEl.classList.add('colab-df-spinner');\n",
              "      try {\n",
              "        const charts = await google.colab.kernel.invokeFunction(\n",
              "            'suggestCharts', [key], {});\n",
              "      } catch (error) {\n",
              "        console.error('Error during call to suggestCharts:', error);\n",
              "      }\n",
              "      quickchartButtonEl.classList.remove('colab-df-spinner');\n",
              "      quickchartButtonEl.classList.add('colab-df-quickchart-complete');\n",
              "    }\n",
              "    (() => {\n",
              "      let quickchartButtonEl =\n",
              "        document.querySelector('#df-060f8b77-e316-4d11-a807-9a31e935f977 button');\n",
              "      quickchartButtonEl.style.display =\n",
              "        google.colab.kernel.accessAllowed ? 'block' : 'none';\n",
              "    })();\n",
              "  </script>\n",
              "</div>\n",
              "\n",
              "    </div>\n",
              "  </div>\n"
            ],
            "application/vnd.google.colaboratory.intrinsic+json": {
              "type": "dataframe",
              "variable_name": "df"
            }
          },
          "metadata": {},
          "execution_count": 5
        }
      ],
      "source": [
        "df.head()"
      ]
    },
    {
      "cell_type": "code",
      "execution_count": 6,
      "metadata": {
        "colab": {
          "base_uri": "https://localhost:8080/"
        },
        "id": "op9UTJ1x9jFS",
        "outputId": "42d00ec3-b8fc-43ea-b663-8dea8b7d0004"
      },
      "outputs": [
        {
          "output_type": "execute_result",
          "data": {
            "text/plain": [
              "Index(['Time', 'V1', 'V2', 'V3', 'V4', 'V5', 'V6', 'V7', 'V8', 'V9', 'V10', 'V11', 'V12', 'V13', 'V14', 'V15', 'V16', 'V17', 'V18', 'V19', 'V20', 'V21', 'V22', 'V23', 'V24', 'V25', 'V26', 'V27', 'V28', 'Amount', 'Class'], dtype='object')"
            ]
          },
          "metadata": {},
          "execution_count": 6
        }
      ],
      "source": [
        "df.columns"
      ]
    },
    {
      "cell_type": "code",
      "execution_count": 7,
      "metadata": {
        "colab": {
          "base_uri": "https://localhost:8080/"
        },
        "id": "efjUoSguzpPm",
        "outputId": "a2a8442d-c062-419c-9549-13ee4ee7828b"
      },
      "outputs": [
        {
          "output_type": "stream",
          "name": "stdout",
          "text": [
            "(284807, 31)\n"
          ]
        }
      ],
      "source": [
        "print(df.shape)"
      ]
    },
    {
      "cell_type": "code",
      "execution_count": 8,
      "metadata": {
        "colab": {
          "base_uri": "https://localhost:8080/",
          "height": 297
        },
        "id": "t3GKek8QS-e7",
        "outputId": "10c8d05d-157c-4d94-a403-e343dbe9a023"
      },
      "outputs": [
        {
          "output_type": "execute_result",
          "data": {
            "text/plain": [
              "                Time         Amount          Class\n",
              "count  284807.000000  284807.000000  284807.000000\n",
              "mean    94813.859575      88.349619       0.001727\n",
              "std     47488.145955     250.120109       0.041527\n",
              "min         0.000000       0.000000       0.000000\n",
              "25%     54201.500000       5.600000       0.000000\n",
              "50%     84692.000000      22.000000       0.000000\n",
              "75%    139320.500000      77.165000       0.000000\n",
              "max    172792.000000   25691.160000       1.000000"
            ],
            "text/html": [
              "\n",
              "  <div id=\"df-a19497b9-162c-4ef7-8a3e-45d8aca1fefb\" class=\"colab-df-container\">\n",
              "    <div>\n",
              "<style scoped>\n",
              "    .dataframe tbody tr th:only-of-type {\n",
              "        vertical-align: middle;\n",
              "    }\n",
              "\n",
              "    .dataframe tbody tr th {\n",
              "        vertical-align: top;\n",
              "    }\n",
              "\n",
              "    .dataframe thead th {\n",
              "        text-align: right;\n",
              "    }\n",
              "</style>\n",
              "<table border=\"1\" class=\"dataframe\">\n",
              "  <thead>\n",
              "    <tr style=\"text-align: right;\">\n",
              "      <th></th>\n",
              "      <th>Time</th>\n",
              "      <th>Amount</th>\n",
              "      <th>Class</th>\n",
              "    </tr>\n",
              "  </thead>\n",
              "  <tbody>\n",
              "    <tr>\n",
              "      <th>count</th>\n",
              "      <td>284807.000000</td>\n",
              "      <td>284807.000000</td>\n",
              "      <td>284807.000000</td>\n",
              "    </tr>\n",
              "    <tr>\n",
              "      <th>mean</th>\n",
              "      <td>94813.859575</td>\n",
              "      <td>88.349619</td>\n",
              "      <td>0.001727</td>\n",
              "    </tr>\n",
              "    <tr>\n",
              "      <th>std</th>\n",
              "      <td>47488.145955</td>\n",
              "      <td>250.120109</td>\n",
              "      <td>0.041527</td>\n",
              "    </tr>\n",
              "    <tr>\n",
              "      <th>min</th>\n",
              "      <td>0.000000</td>\n",
              "      <td>0.000000</td>\n",
              "      <td>0.000000</td>\n",
              "    </tr>\n",
              "    <tr>\n",
              "      <th>25%</th>\n",
              "      <td>54201.500000</td>\n",
              "      <td>5.600000</td>\n",
              "      <td>0.000000</td>\n",
              "    </tr>\n",
              "    <tr>\n",
              "      <th>50%</th>\n",
              "      <td>84692.000000</td>\n",
              "      <td>22.000000</td>\n",
              "      <td>0.000000</td>\n",
              "    </tr>\n",
              "    <tr>\n",
              "      <th>75%</th>\n",
              "      <td>139320.500000</td>\n",
              "      <td>77.165000</td>\n",
              "      <td>0.000000</td>\n",
              "    </tr>\n",
              "    <tr>\n",
              "      <th>max</th>\n",
              "      <td>172792.000000</td>\n",
              "      <td>25691.160000</td>\n",
              "      <td>1.000000</td>\n",
              "    </tr>\n",
              "  </tbody>\n",
              "</table>\n",
              "</div>\n",
              "    <div class=\"colab-df-buttons\">\n",
              "\n",
              "  <div class=\"colab-df-container\">\n",
              "    <button class=\"colab-df-convert\" onclick=\"convertToInteractive('df-a19497b9-162c-4ef7-8a3e-45d8aca1fefb')\"\n",
              "            title=\"Convert this dataframe to an interactive table.\"\n",
              "            style=\"display:none;\">\n",
              "\n",
              "  <svg xmlns=\"http://www.w3.org/2000/svg\" height=\"24px\" viewBox=\"0 -960 960 960\">\n",
              "    <path d=\"M120-120v-720h720v720H120Zm60-500h600v-160H180v160Zm220 220h160v-160H400v160Zm0 220h160v-160H400v160ZM180-400h160v-160H180v160Zm440 0h160v-160H620v160ZM180-180h160v-160H180v160Zm440 0h160v-160H620v160Z\"/>\n",
              "  </svg>\n",
              "    </button>\n",
              "\n",
              "  <style>\n",
              "    .colab-df-container {\n",
              "      display:flex;\n",
              "      gap: 12px;\n",
              "    }\n",
              "\n",
              "    .colab-df-convert {\n",
              "      background-color: #E8F0FE;\n",
              "      border: none;\n",
              "      border-radius: 50%;\n",
              "      cursor: pointer;\n",
              "      display: none;\n",
              "      fill: #1967D2;\n",
              "      height: 32px;\n",
              "      padding: 0 0 0 0;\n",
              "      width: 32px;\n",
              "    }\n",
              "\n",
              "    .colab-df-convert:hover {\n",
              "      background-color: #E2EBFA;\n",
              "      box-shadow: 0px 1px 2px rgba(60, 64, 67, 0.3), 0px 1px 3px 1px rgba(60, 64, 67, 0.15);\n",
              "      fill: #174EA6;\n",
              "    }\n",
              "\n",
              "    .colab-df-buttons div {\n",
              "      margin-bottom: 4px;\n",
              "    }\n",
              "\n",
              "    [theme=dark] .colab-df-convert {\n",
              "      background-color: #3B4455;\n",
              "      fill: #D2E3FC;\n",
              "    }\n",
              "\n",
              "    [theme=dark] .colab-df-convert:hover {\n",
              "      background-color: #434B5C;\n",
              "      box-shadow: 0px 1px 3px 1px rgba(0, 0, 0, 0.15);\n",
              "      filter: drop-shadow(0px 1px 2px rgba(0, 0, 0, 0.3));\n",
              "      fill: #FFFFFF;\n",
              "    }\n",
              "  </style>\n",
              "\n",
              "    <script>\n",
              "      const buttonEl =\n",
              "        document.querySelector('#df-a19497b9-162c-4ef7-8a3e-45d8aca1fefb button.colab-df-convert');\n",
              "      buttonEl.style.display =\n",
              "        google.colab.kernel.accessAllowed ? 'block' : 'none';\n",
              "\n",
              "      async function convertToInteractive(key) {\n",
              "        const element = document.querySelector('#df-a19497b9-162c-4ef7-8a3e-45d8aca1fefb');\n",
              "        const dataTable =\n",
              "          await google.colab.kernel.invokeFunction('convertToInteractive',\n",
              "                                                    [key], {});\n",
              "        if (!dataTable) return;\n",
              "\n",
              "        const docLinkHtml = 'Like what you see? Visit the ' +\n",
              "          '<a target=\"_blank\" href=https://colab.research.google.com/notebooks/data_table.ipynb>data table notebook</a>'\n",
              "          + ' to learn more about interactive tables.';\n",
              "        element.innerHTML = '';\n",
              "        dataTable['output_type'] = 'display_data';\n",
              "        await google.colab.output.renderOutput(dataTable, element);\n",
              "        const docLink = document.createElement('div');\n",
              "        docLink.innerHTML = docLinkHtml;\n",
              "        element.appendChild(docLink);\n",
              "      }\n",
              "    </script>\n",
              "  </div>\n",
              "\n",
              "\n",
              "<div id=\"df-c4af2514-4132-488a-9b7e-9130b96c1ae9\">\n",
              "  <button class=\"colab-df-quickchart\" onclick=\"quickchart('df-c4af2514-4132-488a-9b7e-9130b96c1ae9')\"\n",
              "            title=\"Suggest charts\"\n",
              "            style=\"display:none;\">\n",
              "\n",
              "<svg xmlns=\"http://www.w3.org/2000/svg\" height=\"24px\"viewBox=\"0 0 24 24\"\n",
              "     width=\"24px\">\n",
              "    <g>\n",
              "        <path d=\"M19 3H5c-1.1 0-2 .9-2 2v14c0 1.1.9 2 2 2h14c1.1 0 2-.9 2-2V5c0-1.1-.9-2-2-2zM9 17H7v-7h2v7zm4 0h-2V7h2v10zm4 0h-2v-4h2v4z\"/>\n",
              "    </g>\n",
              "</svg>\n",
              "  </button>\n",
              "\n",
              "<style>\n",
              "  .colab-df-quickchart {\n",
              "      --bg-color: #E8F0FE;\n",
              "      --fill-color: #1967D2;\n",
              "      --hover-bg-color: #E2EBFA;\n",
              "      --hover-fill-color: #174EA6;\n",
              "      --disabled-fill-color: #AAA;\n",
              "      --disabled-bg-color: #DDD;\n",
              "  }\n",
              "\n",
              "  [theme=dark] .colab-df-quickchart {\n",
              "      --bg-color: #3B4455;\n",
              "      --fill-color: #D2E3FC;\n",
              "      --hover-bg-color: #434B5C;\n",
              "      --hover-fill-color: #FFFFFF;\n",
              "      --disabled-bg-color: #3B4455;\n",
              "      --disabled-fill-color: #666;\n",
              "  }\n",
              "\n",
              "  .colab-df-quickchart {\n",
              "    background-color: var(--bg-color);\n",
              "    border: none;\n",
              "    border-radius: 50%;\n",
              "    cursor: pointer;\n",
              "    display: none;\n",
              "    fill: var(--fill-color);\n",
              "    height: 32px;\n",
              "    padding: 0;\n",
              "    width: 32px;\n",
              "  }\n",
              "\n",
              "  .colab-df-quickchart:hover {\n",
              "    background-color: var(--hover-bg-color);\n",
              "    box-shadow: 0 1px 2px rgba(60, 64, 67, 0.3), 0 1px 3px 1px rgba(60, 64, 67, 0.15);\n",
              "    fill: var(--button-hover-fill-color);\n",
              "  }\n",
              "\n",
              "  .colab-df-quickchart-complete:disabled,\n",
              "  .colab-df-quickchart-complete:disabled:hover {\n",
              "    background-color: var(--disabled-bg-color);\n",
              "    fill: var(--disabled-fill-color);\n",
              "    box-shadow: none;\n",
              "  }\n",
              "\n",
              "  .colab-df-spinner {\n",
              "    border: 2px solid var(--fill-color);\n",
              "    border-color: transparent;\n",
              "    border-bottom-color: var(--fill-color);\n",
              "    animation:\n",
              "      spin 1s steps(1) infinite;\n",
              "  }\n",
              "\n",
              "  @keyframes spin {\n",
              "    0% {\n",
              "      border-color: transparent;\n",
              "      border-bottom-color: var(--fill-color);\n",
              "      border-left-color: var(--fill-color);\n",
              "    }\n",
              "    20% {\n",
              "      border-color: transparent;\n",
              "      border-left-color: var(--fill-color);\n",
              "      border-top-color: var(--fill-color);\n",
              "    }\n",
              "    30% {\n",
              "      border-color: transparent;\n",
              "      border-left-color: var(--fill-color);\n",
              "      border-top-color: var(--fill-color);\n",
              "      border-right-color: var(--fill-color);\n",
              "    }\n",
              "    40% {\n",
              "      border-color: transparent;\n",
              "      border-right-color: var(--fill-color);\n",
              "      border-top-color: var(--fill-color);\n",
              "    }\n",
              "    60% {\n",
              "      border-color: transparent;\n",
              "      border-right-color: var(--fill-color);\n",
              "    }\n",
              "    80% {\n",
              "      border-color: transparent;\n",
              "      border-right-color: var(--fill-color);\n",
              "      border-bottom-color: var(--fill-color);\n",
              "    }\n",
              "    90% {\n",
              "      border-color: transparent;\n",
              "      border-bottom-color: var(--fill-color);\n",
              "    }\n",
              "  }\n",
              "</style>\n",
              "\n",
              "  <script>\n",
              "    async function quickchart(key) {\n",
              "      const quickchartButtonEl =\n",
              "        document.querySelector('#' + key + ' button');\n",
              "      quickchartButtonEl.disabled = true;  // To prevent multiple clicks.\n",
              "      quickchartButtonEl.classList.add('colab-df-spinner');\n",
              "      try {\n",
              "        const charts = await google.colab.kernel.invokeFunction(\n",
              "            'suggestCharts', [key], {});\n",
              "      } catch (error) {\n",
              "        console.error('Error during call to suggestCharts:', error);\n",
              "      }\n",
              "      quickchartButtonEl.classList.remove('colab-df-spinner');\n",
              "      quickchartButtonEl.classList.add('colab-df-quickchart-complete');\n",
              "    }\n",
              "    (() => {\n",
              "      let quickchartButtonEl =\n",
              "        document.querySelector('#df-c4af2514-4132-488a-9b7e-9130b96c1ae9 button');\n",
              "      quickchartButtonEl.style.display =\n",
              "        google.colab.kernel.accessAllowed ? 'block' : 'none';\n",
              "    })();\n",
              "  </script>\n",
              "</div>\n",
              "\n",
              "    </div>\n",
              "  </div>\n"
            ],
            "application/vnd.google.colaboratory.intrinsic+json": {
              "type": "dataframe",
              "summary": "{\n  \"name\": \"df[[\\\"Time\\\", \\\"Amount\\\", \\\"Class\\\"]]\",\n  \"rows\": 8,\n  \"fields\": [\n    {\n      \"column\": \"Time\",\n      \"properties\": {\n        \"dtype\": \"number\",\n        \"std\": 88923.63361429356,\n        \"min\": 0.0,\n        \"max\": 284807.0,\n        \"num_unique_values\": 8,\n        \"samples\": [\n          94813.85957508067,\n          84692.0,\n          284807.0\n        ],\n        \"semantic_type\": \"\",\n        \"description\": \"\"\n      }\n    },\n    {\n      \"column\": \"Amount\",\n      \"properties\": {\n        \"dtype\": \"number\",\n        \"std\": 99778.01856206656,\n        \"min\": 0.0,\n        \"max\": 284807.0,\n        \"num_unique_values\": 8,\n        \"samples\": [\n          88.34961925093133,\n          22.0,\n          284807.0\n        ],\n        \"semantic_type\": \"\",\n        \"description\": \"\"\n      }\n    },\n    {\n      \"column\": \"Class\",\n      \"properties\": {\n        \"dtype\": \"number\",\n        \"std\": 100694.42782298056,\n        \"min\": 0.0,\n        \"max\": 284807.0,\n        \"num_unique_values\": 5,\n        \"samples\": [\n          0.001727485630620034,\n          1.0,\n          0.04152718963546506\n        ],\n        \"semantic_type\": \"\",\n        \"description\": \"\"\n      }\n    }\n  ]\n}"
            }
          },
          "metadata": {},
          "execution_count": 8
        }
      ],
      "source": [
        "df[[\"Time\", \"Amount\", \"Class\"]].describe()"
      ]
    },
    {
      "cell_type": "markdown",
      "metadata": {
        "id": "AsloRrM89lFt"
      },
      "source": [
        "#2. DataFrame Preprocessing\n",
        "###Let's clean up the dataframe a little bit for optimal use later."
      ]
    },
    {
      "cell_type": "markdown",
      "metadata": {
        "id": "vMxkqw8fFcPy"
      },
      "source": [
        "##2.1 General Preprocessing"
      ]
    },
    {
      "cell_type": "markdown",
      "metadata": {
        "id": "aS44GvY1o58Z"
      },
      "source": [
        "####Number of unique values:"
      ]
    },
    {
      "cell_type": "code",
      "execution_count": 9,
      "metadata": {
        "colab": {
          "base_uri": "https://localhost:8080/"
        },
        "id": "egE0sQPl9mHT",
        "outputId": "f0eed82c-23fa-4595-9a68-67ba35797a56"
      },
      "outputs": [
        {
          "output_type": "stream",
          "name": "stdout",
          "text": [
            "Time      124592\n",
            "V1        275663\n",
            "V2        275663\n",
            "V3        275663\n",
            "V4        275663\n",
            "V5        275663\n",
            "V6        275663\n",
            "V7        275663\n",
            "V8        275663\n",
            "V9        275663\n",
            "V10       275663\n",
            "V11       275663\n",
            "V12       275663\n",
            "V13       275663\n",
            "V14       275663\n",
            "V15       275663\n",
            "V16       275663\n",
            "V17       275663\n",
            "V18       275663\n",
            "V19       275663\n",
            "V20       275663\n",
            "V21       275663\n",
            "V22       275663\n",
            "V23       275663\n",
            "V24       275663\n",
            "V25       275663\n",
            "V26       275663\n",
            "V27       275663\n",
            "V28       275663\n",
            "Amount     32767\n",
            "Class          2\n",
            "dtype: int64\n"
          ]
        }
      ],
      "source": [
        "print(df.nunique())"
      ]
    },
    {
      "cell_type": "markdown",
      "metadata": {
        "id": "z17c0Xc2o9C_"
      },
      "source": [
        "#####The number of unique values above seems normal.\n",
        "#####We have 2 classes in the Class column. Let's take a quick look on how they're represented, as well as their value counts:"
      ]
    },
    {
      "cell_type": "code",
      "execution_count": 10,
      "metadata": {
        "colab": {
          "base_uri": "https://localhost:8080/",
          "height": 176
        },
        "id": "SXTcXDFV-ipO",
        "outputId": "1492b68c-da0c-4a3c-e84e-f7152a29f584"
      },
      "outputs": [
        {
          "output_type": "execute_result",
          "data": {
            "text/plain": [
              "Class\n",
              "0    284315\n",
              "1       492\n",
              "Name: count, dtype: int64"
            ],
            "text/html": [
              "<div>\n",
              "<style scoped>\n",
              "    .dataframe tbody tr th:only-of-type {\n",
              "        vertical-align: middle;\n",
              "    }\n",
              "\n",
              "    .dataframe tbody tr th {\n",
              "        vertical-align: top;\n",
              "    }\n",
              "\n",
              "    .dataframe thead th {\n",
              "        text-align: right;\n",
              "    }\n",
              "</style>\n",
              "<table border=\"1\" class=\"dataframe\">\n",
              "  <thead>\n",
              "    <tr style=\"text-align: right;\">\n",
              "      <th></th>\n",
              "      <th>count</th>\n",
              "    </tr>\n",
              "    <tr>\n",
              "      <th>Class</th>\n",
              "      <th></th>\n",
              "    </tr>\n",
              "  </thead>\n",
              "  <tbody>\n",
              "    <tr>\n",
              "      <th>0</th>\n",
              "      <td>284315</td>\n",
              "    </tr>\n",
              "    <tr>\n",
              "      <th>1</th>\n",
              "      <td>492</td>\n",
              "    </tr>\n",
              "  </tbody>\n",
              "</table>\n",
              "</div><br><label><b>dtype:</b> int64</label>"
            ]
          },
          "metadata": {},
          "execution_count": 10
        }
      ],
      "source": [
        "df[\"Class\"].value_counts()"
      ]
    },
    {
      "cell_type": "markdown",
      "metadata": {
        "id": "KfNrjOWcpl7o"
      },
      "source": [
        "#####We can see that the class labels use typical numerical encoding of\n",
        "#####0 - Non fraudulent\n",
        "#####1 - Fraudulent\n",
        "\n",
        "#####And also, **WOW!** That's a very imbalanced distribution. In our df, we clearly have a lot more rows classified as non-fraudulent than fraudulent. This is a problem. We will talk more about why it's a problem and how to deal with it later. For now, let's continue cleaning up the data."
      ]
    },
    {
      "cell_type": "markdown",
      "metadata": {
        "id": "LFb3c6YWqTCp"
      },
      "source": [
        "####See number of values that are \"0\" in each column\n",
        "#####0 values sometimes occur in columns as a representation of null values."
      ]
    },
    {
      "cell_type": "code",
      "execution_count": 11,
      "metadata": {
        "colab": {
          "base_uri": "https://localhost:8080/",
          "height": 1000
        },
        "id": "TGDmO0Te9q3t",
        "outputId": "7ce48627-75b7-40d7-aece-0dc3f188031a"
      },
      "outputs": [
        {
          "output_type": "execute_result",
          "data": {
            "text/plain": [
              "Time           2\n",
              "V1             0\n",
              "V2             0\n",
              "V3             0\n",
              "V4             0\n",
              "V5             0\n",
              "V6             0\n",
              "V7             0\n",
              "V8             0\n",
              "V9             0\n",
              "V10            0\n",
              "V11            0\n",
              "V12            0\n",
              "V13            0\n",
              "V14            0\n",
              "V15            0\n",
              "V16            0\n",
              "V17            0\n",
              "V18            0\n",
              "V19            0\n",
              "V20            0\n",
              "V21            0\n",
              "V22            0\n",
              "V23            0\n",
              "V24            0\n",
              "V25            0\n",
              "V26            0\n",
              "V27            0\n",
              "V28            0\n",
              "Amount      1825\n",
              "Class     284315\n",
              "dtype: int64"
            ],
            "text/html": [
              "<div>\n",
              "<style scoped>\n",
              "    .dataframe tbody tr th:only-of-type {\n",
              "        vertical-align: middle;\n",
              "    }\n",
              "\n",
              "    .dataframe tbody tr th {\n",
              "        vertical-align: top;\n",
              "    }\n",
              "\n",
              "    .dataframe thead th {\n",
              "        text-align: right;\n",
              "    }\n",
              "</style>\n",
              "<table border=\"1\" class=\"dataframe\">\n",
              "  <thead>\n",
              "    <tr style=\"text-align: right;\">\n",
              "      <th></th>\n",
              "      <th>0</th>\n",
              "    </tr>\n",
              "  </thead>\n",
              "  <tbody>\n",
              "    <tr>\n",
              "      <th>Time</th>\n",
              "      <td>2</td>\n",
              "    </tr>\n",
              "    <tr>\n",
              "      <th>V1</th>\n",
              "      <td>0</td>\n",
              "    </tr>\n",
              "    <tr>\n",
              "      <th>V2</th>\n",
              "      <td>0</td>\n",
              "    </tr>\n",
              "    <tr>\n",
              "      <th>V3</th>\n",
              "      <td>0</td>\n",
              "    </tr>\n",
              "    <tr>\n",
              "      <th>V4</th>\n",
              "      <td>0</td>\n",
              "    </tr>\n",
              "    <tr>\n",
              "      <th>V5</th>\n",
              "      <td>0</td>\n",
              "    </tr>\n",
              "    <tr>\n",
              "      <th>V6</th>\n",
              "      <td>0</td>\n",
              "    </tr>\n",
              "    <tr>\n",
              "      <th>V7</th>\n",
              "      <td>0</td>\n",
              "    </tr>\n",
              "    <tr>\n",
              "      <th>V8</th>\n",
              "      <td>0</td>\n",
              "    </tr>\n",
              "    <tr>\n",
              "      <th>V9</th>\n",
              "      <td>0</td>\n",
              "    </tr>\n",
              "    <tr>\n",
              "      <th>V10</th>\n",
              "      <td>0</td>\n",
              "    </tr>\n",
              "    <tr>\n",
              "      <th>V11</th>\n",
              "      <td>0</td>\n",
              "    </tr>\n",
              "    <tr>\n",
              "      <th>V12</th>\n",
              "      <td>0</td>\n",
              "    </tr>\n",
              "    <tr>\n",
              "      <th>V13</th>\n",
              "      <td>0</td>\n",
              "    </tr>\n",
              "    <tr>\n",
              "      <th>V14</th>\n",
              "      <td>0</td>\n",
              "    </tr>\n",
              "    <tr>\n",
              "      <th>V15</th>\n",
              "      <td>0</td>\n",
              "    </tr>\n",
              "    <tr>\n",
              "      <th>V16</th>\n",
              "      <td>0</td>\n",
              "    </tr>\n",
              "    <tr>\n",
              "      <th>V17</th>\n",
              "      <td>0</td>\n",
              "    </tr>\n",
              "    <tr>\n",
              "      <th>V18</th>\n",
              "      <td>0</td>\n",
              "    </tr>\n",
              "    <tr>\n",
              "      <th>V19</th>\n",
              "      <td>0</td>\n",
              "    </tr>\n",
              "    <tr>\n",
              "      <th>V20</th>\n",
              "      <td>0</td>\n",
              "    </tr>\n",
              "    <tr>\n",
              "      <th>V21</th>\n",
              "      <td>0</td>\n",
              "    </tr>\n",
              "    <tr>\n",
              "      <th>V22</th>\n",
              "      <td>0</td>\n",
              "    </tr>\n",
              "    <tr>\n",
              "      <th>V23</th>\n",
              "      <td>0</td>\n",
              "    </tr>\n",
              "    <tr>\n",
              "      <th>V24</th>\n",
              "      <td>0</td>\n",
              "    </tr>\n",
              "    <tr>\n",
              "      <th>V25</th>\n",
              "      <td>0</td>\n",
              "    </tr>\n",
              "    <tr>\n",
              "      <th>V26</th>\n",
              "      <td>0</td>\n",
              "    </tr>\n",
              "    <tr>\n",
              "      <th>V27</th>\n",
              "      <td>0</td>\n",
              "    </tr>\n",
              "    <tr>\n",
              "      <th>V28</th>\n",
              "      <td>0</td>\n",
              "    </tr>\n",
              "    <tr>\n",
              "      <th>Amount</th>\n",
              "      <td>1825</td>\n",
              "    </tr>\n",
              "    <tr>\n",
              "      <th>Class</th>\n",
              "      <td>284315</td>\n",
              "    </tr>\n",
              "  </tbody>\n",
              "</table>\n",
              "</div><br><label><b>dtype:</b> int64</label>"
            ]
          },
          "metadata": {},
          "execution_count": 11
        }
      ],
      "source": [
        "(df == 0).sum(axis=0)"
      ]
    },
    {
      "cell_type": "markdown",
      "metadata": {
        "id": "GroHT2hLqmGj"
      },
      "source": [
        "#####Now obviously there are 0 values for the class column, but for the Time and Amount columns they're aren't supposed to be. Since there's a notable amount of 0 values in the Amount column, let's make sure its class label distribution is normal before we remove them (basically a sanity check)."
      ]
    },
    {
      "cell_type": "code",
      "execution_count": 12,
      "metadata": {
        "colab": {
          "base_uri": "https://localhost:8080/",
          "height": 176
        },
        "id": "CqrJtXBb-T5w",
        "outputId": "87ae1c28-1a9c-4048-ae68-664be8df2cfb"
      },
      "outputs": [
        {
          "output_type": "execute_result",
          "data": {
            "text/plain": [
              "Class\n",
              "0    1798\n",
              "1      27\n",
              "Name: count, dtype: int64"
            ],
            "text/html": [
              "<div>\n",
              "<style scoped>\n",
              "    .dataframe tbody tr th:only-of-type {\n",
              "        vertical-align: middle;\n",
              "    }\n",
              "\n",
              "    .dataframe tbody tr th {\n",
              "        vertical-align: top;\n",
              "    }\n",
              "\n",
              "    .dataframe thead th {\n",
              "        text-align: right;\n",
              "    }\n",
              "</style>\n",
              "<table border=\"1\" class=\"dataframe\">\n",
              "  <thead>\n",
              "    <tr style=\"text-align: right;\">\n",
              "      <th></th>\n",
              "      <th>count</th>\n",
              "    </tr>\n",
              "    <tr>\n",
              "      <th>Class</th>\n",
              "      <th></th>\n",
              "    </tr>\n",
              "  </thead>\n",
              "  <tbody>\n",
              "    <tr>\n",
              "      <th>0</th>\n",
              "      <td>1798</td>\n",
              "    </tr>\n",
              "    <tr>\n",
              "      <th>1</th>\n",
              "      <td>27</td>\n",
              "    </tr>\n",
              "  </tbody>\n",
              "</table>\n",
              "</div><br><label><b>dtype:</b> int64</label>"
            ]
          },
          "metadata": {},
          "execution_count": 12
        }
      ],
      "source": [
        "df.loc[df[\"Amount\"] == 0][\"Class\"].value_counts()"
      ]
    },
    {
      "cell_type": "markdown",
      "metadata": {
        "id": "QkRfeYierU0S"
      },
      "source": [
        "#####Looks good. Let's remove them:"
      ]
    },
    {
      "cell_type": "code",
      "execution_count": 13,
      "metadata": {
        "id": "gNkWcE5E-0s_"
      },
      "outputs": [],
      "source": [
        "df = df.query(\"Amount != 0 and Time != 0\")"
      ]
    },
    {
      "cell_type": "markdown",
      "metadata": {
        "id": "7bW4z170rX9E"
      },
      "source": [
        "####Check for null values"
      ]
    },
    {
      "cell_type": "code",
      "execution_count": 14,
      "metadata": {
        "colab": {
          "base_uri": "https://localhost:8080/"
        },
        "id": "NedrlFUcztR4",
        "outputId": "6b264d98-db3c-4e16-8f04-d44768a488fe"
      },
      "outputs": [
        {
          "output_type": "stream",
          "name": "stdout",
          "text": [
            "Time      0\n",
            "V1        0\n",
            "V2        0\n",
            "V3        0\n",
            "V4        0\n",
            "V5        0\n",
            "V6        0\n",
            "V7        0\n",
            "V8        0\n",
            "V9        0\n",
            "V10       0\n",
            "V11       0\n",
            "V12       0\n",
            "V13       0\n",
            "V14       0\n",
            "V15       0\n",
            "V16       0\n",
            "V17       0\n",
            "V18       0\n",
            "V19       0\n",
            "V20       0\n",
            "V21       0\n",
            "V22       0\n",
            "V23       0\n",
            "V24       0\n",
            "V25       0\n",
            "V26       0\n",
            "V27       0\n",
            "V28       0\n",
            "Amount    0\n",
            "Class     0\n",
            "dtype: int64\n"
          ]
        }
      ],
      "source": [
        "print(df.isna().sum())"
      ]
    },
    {
      "cell_type": "markdown",
      "metadata": {
        "id": "uFLOrVf6reNR"
      },
      "source": [
        "####Scaling\n",
        "#####Something I noticed all the way back when we did df.describe() is that the distribution for Amount/Time is way larger than the distribution for the other columns. Therefore, it's a good idea to scale them. Let's try various scaling methods and pick the one with the most reasonable range (using inspection):"
      ]
    },
    {
      "cell_type": "markdown",
      "metadata": {
        "id": "LASZWT6Jw8Mv"
      },
      "source": [
        "#####Log Scaling"
      ]
    },
    {
      "cell_type": "code",
      "execution_count": 15,
      "metadata": {
        "colab": {
          "base_uri": "https://localhost:8080/",
          "height": 331
        },
        "id": "8UIEQPsIYbV5",
        "outputId": "602ce079-1907-4802-c58f-56ceb16230c6"
      },
      "outputs": [
        {
          "output_type": "execute_result",
          "data": {
            "text/plain": [
              "count    282980.000000\n",
              "mean         11.253137\n",
              "std           0.817473\n",
              "min           0.000000\n",
              "25%          10.901409\n",
              "50%          11.346971\n",
              "75%          11.844846\n",
              "max          12.059844\n",
              "Name: Time, dtype: float64"
            ],
            "text/html": [
              "<div>\n",
              "<style scoped>\n",
              "    .dataframe tbody tr th:only-of-type {\n",
              "        vertical-align: middle;\n",
              "    }\n",
              "\n",
              "    .dataframe tbody tr th {\n",
              "        vertical-align: top;\n",
              "    }\n",
              "\n",
              "    .dataframe thead th {\n",
              "        text-align: right;\n",
              "    }\n",
              "</style>\n",
              "<table border=\"1\" class=\"dataframe\">\n",
              "  <thead>\n",
              "    <tr style=\"text-align: right;\">\n",
              "      <th></th>\n",
              "      <th>Time</th>\n",
              "    </tr>\n",
              "  </thead>\n",
              "  <tbody>\n",
              "    <tr>\n",
              "      <th>count</th>\n",
              "      <td>282980.000000</td>\n",
              "    </tr>\n",
              "    <tr>\n",
              "      <th>mean</th>\n",
              "      <td>11.253137</td>\n",
              "    </tr>\n",
              "    <tr>\n",
              "      <th>std</th>\n",
              "      <td>0.817473</td>\n",
              "    </tr>\n",
              "    <tr>\n",
              "      <th>min</th>\n",
              "      <td>0.000000</td>\n",
              "    </tr>\n",
              "    <tr>\n",
              "      <th>25%</th>\n",
              "      <td>10.901409</td>\n",
              "    </tr>\n",
              "    <tr>\n",
              "      <th>50%</th>\n",
              "      <td>11.346971</td>\n",
              "    </tr>\n",
              "    <tr>\n",
              "      <th>75%</th>\n",
              "      <td>11.844846</td>\n",
              "    </tr>\n",
              "    <tr>\n",
              "      <th>max</th>\n",
              "      <td>12.059844</td>\n",
              "    </tr>\n",
              "  </tbody>\n",
              "</table>\n",
              "</div><br><label><b>dtype:</b> float64</label>"
            ]
          },
          "metadata": {},
          "execution_count": 15
        }
      ],
      "source": [
        "import math\n",
        "df[\"Time\"].apply(lambda x : math.log(x)).describe()"
      ]
    },
    {
      "cell_type": "markdown",
      "metadata": {
        "id": "TY1hzkszw9kn"
      },
      "source": [
        "#####Quantile Transformer"
      ]
    },
    {
      "cell_type": "code",
      "execution_count": 16,
      "metadata": {
        "colab": {
          "base_uri": "https://localhost:8080/",
          "height": 297
        },
        "id": "4V1TOpqI8uw0",
        "outputId": "a10bdcb2-0bfb-437f-d612-706357fabab9"
      },
      "outputs": [
        {
          "output_type": "execute_result",
          "data": {
            "text/plain": [
              "                Time\n",
              "count  282980.000000\n",
              "mean        0.495810\n",
              "std         0.288890\n",
              "min         0.000000\n",
              "25%         0.248433\n",
              "50%         0.490727\n",
              "75%         0.745603\n",
              "max         1.000000"
            ],
            "text/html": [
              "\n",
              "  <div id=\"df-b2a0eb02-7c6b-4757-9efc-f889942b49cb\" class=\"colab-df-container\">\n",
              "    <div>\n",
              "<style scoped>\n",
              "    .dataframe tbody tr th:only-of-type {\n",
              "        vertical-align: middle;\n",
              "    }\n",
              "\n",
              "    .dataframe tbody tr th {\n",
              "        vertical-align: top;\n",
              "    }\n",
              "\n",
              "    .dataframe thead th {\n",
              "        text-align: right;\n",
              "    }\n",
              "</style>\n",
              "<table border=\"1\" class=\"dataframe\">\n",
              "  <thead>\n",
              "    <tr style=\"text-align: right;\">\n",
              "      <th></th>\n",
              "      <th>Time</th>\n",
              "    </tr>\n",
              "  </thead>\n",
              "  <tbody>\n",
              "    <tr>\n",
              "      <th>count</th>\n",
              "      <td>282980.000000</td>\n",
              "    </tr>\n",
              "    <tr>\n",
              "      <th>mean</th>\n",
              "      <td>0.495810</td>\n",
              "    </tr>\n",
              "    <tr>\n",
              "      <th>std</th>\n",
              "      <td>0.288890</td>\n",
              "    </tr>\n",
              "    <tr>\n",
              "      <th>min</th>\n",
              "      <td>0.000000</td>\n",
              "    </tr>\n",
              "    <tr>\n",
              "      <th>25%</th>\n",
              "      <td>0.248433</td>\n",
              "    </tr>\n",
              "    <tr>\n",
              "      <th>50%</th>\n",
              "      <td>0.490727</td>\n",
              "    </tr>\n",
              "    <tr>\n",
              "      <th>75%</th>\n",
              "      <td>0.745603</td>\n",
              "    </tr>\n",
              "    <tr>\n",
              "      <th>max</th>\n",
              "      <td>1.000000</td>\n",
              "    </tr>\n",
              "  </tbody>\n",
              "</table>\n",
              "</div>\n",
              "    <div class=\"colab-df-buttons\">\n",
              "\n",
              "  <div class=\"colab-df-container\">\n",
              "    <button class=\"colab-df-convert\" onclick=\"convertToInteractive('df-b2a0eb02-7c6b-4757-9efc-f889942b49cb')\"\n",
              "            title=\"Convert this dataframe to an interactive table.\"\n",
              "            style=\"display:none;\">\n",
              "\n",
              "  <svg xmlns=\"http://www.w3.org/2000/svg\" height=\"24px\" viewBox=\"0 -960 960 960\">\n",
              "    <path d=\"M120-120v-720h720v720H120Zm60-500h600v-160H180v160Zm220 220h160v-160H400v160Zm0 220h160v-160H400v160ZM180-400h160v-160H180v160Zm440 0h160v-160H620v160ZM180-180h160v-160H180v160Zm440 0h160v-160H620v160Z\"/>\n",
              "  </svg>\n",
              "    </button>\n",
              "\n",
              "  <style>\n",
              "    .colab-df-container {\n",
              "      display:flex;\n",
              "      gap: 12px;\n",
              "    }\n",
              "\n",
              "    .colab-df-convert {\n",
              "      background-color: #E8F0FE;\n",
              "      border: none;\n",
              "      border-radius: 50%;\n",
              "      cursor: pointer;\n",
              "      display: none;\n",
              "      fill: #1967D2;\n",
              "      height: 32px;\n",
              "      padding: 0 0 0 0;\n",
              "      width: 32px;\n",
              "    }\n",
              "\n",
              "    .colab-df-convert:hover {\n",
              "      background-color: #E2EBFA;\n",
              "      box-shadow: 0px 1px 2px rgba(60, 64, 67, 0.3), 0px 1px 3px 1px rgba(60, 64, 67, 0.15);\n",
              "      fill: #174EA6;\n",
              "    }\n",
              "\n",
              "    .colab-df-buttons div {\n",
              "      margin-bottom: 4px;\n",
              "    }\n",
              "\n",
              "    [theme=dark] .colab-df-convert {\n",
              "      background-color: #3B4455;\n",
              "      fill: #D2E3FC;\n",
              "    }\n",
              "\n",
              "    [theme=dark] .colab-df-convert:hover {\n",
              "      background-color: #434B5C;\n",
              "      box-shadow: 0px 1px 3px 1px rgba(0, 0, 0, 0.15);\n",
              "      filter: drop-shadow(0px 1px 2px rgba(0, 0, 0, 0.3));\n",
              "      fill: #FFFFFF;\n",
              "    }\n",
              "  </style>\n",
              "\n",
              "    <script>\n",
              "      const buttonEl =\n",
              "        document.querySelector('#df-b2a0eb02-7c6b-4757-9efc-f889942b49cb button.colab-df-convert');\n",
              "      buttonEl.style.display =\n",
              "        google.colab.kernel.accessAllowed ? 'block' : 'none';\n",
              "\n",
              "      async function convertToInteractive(key) {\n",
              "        const element = document.querySelector('#df-b2a0eb02-7c6b-4757-9efc-f889942b49cb');\n",
              "        const dataTable =\n",
              "          await google.colab.kernel.invokeFunction('convertToInteractive',\n",
              "                                                    [key], {});\n",
              "        if (!dataTable) return;\n",
              "\n",
              "        const docLinkHtml = 'Like what you see? Visit the ' +\n",
              "          '<a target=\"_blank\" href=https://colab.research.google.com/notebooks/data_table.ipynb>data table notebook</a>'\n",
              "          + ' to learn more about interactive tables.';\n",
              "        element.innerHTML = '';\n",
              "        dataTable['output_type'] = 'display_data';\n",
              "        await google.colab.output.renderOutput(dataTable, element);\n",
              "        const docLink = document.createElement('div');\n",
              "        docLink.innerHTML = docLinkHtml;\n",
              "        element.appendChild(docLink);\n",
              "      }\n",
              "    </script>\n",
              "  </div>\n",
              "\n",
              "\n",
              "<div id=\"df-fbd23181-693d-4e3b-8ac0-5586be6eb240\">\n",
              "  <button class=\"colab-df-quickchart\" onclick=\"quickchart('df-fbd23181-693d-4e3b-8ac0-5586be6eb240')\"\n",
              "            title=\"Suggest charts\"\n",
              "            style=\"display:none;\">\n",
              "\n",
              "<svg xmlns=\"http://www.w3.org/2000/svg\" height=\"24px\"viewBox=\"0 0 24 24\"\n",
              "     width=\"24px\">\n",
              "    <g>\n",
              "        <path d=\"M19 3H5c-1.1 0-2 .9-2 2v14c0 1.1.9 2 2 2h14c1.1 0 2-.9 2-2V5c0-1.1-.9-2-2-2zM9 17H7v-7h2v7zm4 0h-2V7h2v10zm4 0h-2v-4h2v4z\"/>\n",
              "    </g>\n",
              "</svg>\n",
              "  </button>\n",
              "\n",
              "<style>\n",
              "  .colab-df-quickchart {\n",
              "      --bg-color: #E8F0FE;\n",
              "      --fill-color: #1967D2;\n",
              "      --hover-bg-color: #E2EBFA;\n",
              "      --hover-fill-color: #174EA6;\n",
              "      --disabled-fill-color: #AAA;\n",
              "      --disabled-bg-color: #DDD;\n",
              "  }\n",
              "\n",
              "  [theme=dark] .colab-df-quickchart {\n",
              "      --bg-color: #3B4455;\n",
              "      --fill-color: #D2E3FC;\n",
              "      --hover-bg-color: #434B5C;\n",
              "      --hover-fill-color: #FFFFFF;\n",
              "      --disabled-bg-color: #3B4455;\n",
              "      --disabled-fill-color: #666;\n",
              "  }\n",
              "\n",
              "  .colab-df-quickchart {\n",
              "    background-color: var(--bg-color);\n",
              "    border: none;\n",
              "    border-radius: 50%;\n",
              "    cursor: pointer;\n",
              "    display: none;\n",
              "    fill: var(--fill-color);\n",
              "    height: 32px;\n",
              "    padding: 0;\n",
              "    width: 32px;\n",
              "  }\n",
              "\n",
              "  .colab-df-quickchart:hover {\n",
              "    background-color: var(--hover-bg-color);\n",
              "    box-shadow: 0 1px 2px rgba(60, 64, 67, 0.3), 0 1px 3px 1px rgba(60, 64, 67, 0.15);\n",
              "    fill: var(--button-hover-fill-color);\n",
              "  }\n",
              "\n",
              "  .colab-df-quickchart-complete:disabled,\n",
              "  .colab-df-quickchart-complete:disabled:hover {\n",
              "    background-color: var(--disabled-bg-color);\n",
              "    fill: var(--disabled-fill-color);\n",
              "    box-shadow: none;\n",
              "  }\n",
              "\n",
              "  .colab-df-spinner {\n",
              "    border: 2px solid var(--fill-color);\n",
              "    border-color: transparent;\n",
              "    border-bottom-color: var(--fill-color);\n",
              "    animation:\n",
              "      spin 1s steps(1) infinite;\n",
              "  }\n",
              "\n",
              "  @keyframes spin {\n",
              "    0% {\n",
              "      border-color: transparent;\n",
              "      border-bottom-color: var(--fill-color);\n",
              "      border-left-color: var(--fill-color);\n",
              "    }\n",
              "    20% {\n",
              "      border-color: transparent;\n",
              "      border-left-color: var(--fill-color);\n",
              "      border-top-color: var(--fill-color);\n",
              "    }\n",
              "    30% {\n",
              "      border-color: transparent;\n",
              "      border-left-color: var(--fill-color);\n",
              "      border-top-color: var(--fill-color);\n",
              "      border-right-color: var(--fill-color);\n",
              "    }\n",
              "    40% {\n",
              "      border-color: transparent;\n",
              "      border-right-color: var(--fill-color);\n",
              "      border-top-color: var(--fill-color);\n",
              "    }\n",
              "    60% {\n",
              "      border-color: transparent;\n",
              "      border-right-color: var(--fill-color);\n",
              "    }\n",
              "    80% {\n",
              "      border-color: transparent;\n",
              "      border-right-color: var(--fill-color);\n",
              "      border-bottom-color: var(--fill-color);\n",
              "    }\n",
              "    90% {\n",
              "      border-color: transparent;\n",
              "      border-bottom-color: var(--fill-color);\n",
              "    }\n",
              "  }\n",
              "</style>\n",
              "\n",
              "  <script>\n",
              "    async function quickchart(key) {\n",
              "      const quickchartButtonEl =\n",
              "        document.querySelector('#' + key + ' button');\n",
              "      quickchartButtonEl.disabled = true;  // To prevent multiple clicks.\n",
              "      quickchartButtonEl.classList.add('colab-df-spinner');\n",
              "      try {\n",
              "        const charts = await google.colab.kernel.invokeFunction(\n",
              "            'suggestCharts', [key], {});\n",
              "      } catch (error) {\n",
              "        console.error('Error during call to suggestCharts:', error);\n",
              "      }\n",
              "      quickchartButtonEl.classList.remove('colab-df-spinner');\n",
              "      quickchartButtonEl.classList.add('colab-df-quickchart-complete');\n",
              "    }\n",
              "    (() => {\n",
              "      let quickchartButtonEl =\n",
              "        document.querySelector('#df-fbd23181-693d-4e3b-8ac0-5586be6eb240 button');\n",
              "      quickchartButtonEl.style.display =\n",
              "        google.colab.kernel.accessAllowed ? 'block' : 'none';\n",
              "    })();\n",
              "  </script>\n",
              "</div>\n",
              "\n",
              "    </div>\n",
              "  </div>\n"
            ],
            "application/vnd.google.colaboratory.intrinsic+json": {
              "type": "dataframe",
              "summary": "{\n  \"name\": \"time_df\",\n  \"rows\": 8,\n  \"fields\": [\n    {\n      \"column\": \"Time\",\n      \"properties\": {\n        \"dtype\": \"number\",\n        \"std\": 100048.3733377149,\n        \"min\": 0.0,\n        \"max\": 282980.0,\n        \"num_unique_values\": 8,\n        \"samples\": [\n          0.4958099499182694,\n          0.49072657886863436,\n          282980.0\n        ],\n        \"semantic_type\": \"\",\n        \"description\": \"\"\n      }\n    }\n  ]\n}"
            }
          },
          "metadata": {},
          "execution_count": 16
        }
      ],
      "source": [
        "from sklearn.preprocessing import QuantileTransformer\n",
        "\n",
        "scaler = QuantileTransformer(output_distribution=\"uniform\")\n",
        "time_col = df[\"Time\"].values.reshape(-1, 1)\n",
        "\n",
        "quantile_time = scaler.fit_transform(time_col)\n",
        "\n",
        "time_df = pd.DataFrame(quantile_time, columns=[\"Time\"])\n",
        "time_df.describe()"
      ]
    },
    {
      "cell_type": "markdown",
      "metadata": {
        "id": "_fVL5XkFxAOa"
      },
      "source": [
        "#####Robust Scaler"
      ]
    },
    {
      "cell_type": "code",
      "execution_count": 17,
      "metadata": {
        "colab": {
          "base_uri": "https://localhost:8080/",
          "height": 297
        },
        "id": "gDvJxiBWE8Uw",
        "outputId": "d1114fd1-60f1-42b8-cfce-e2ce96af33ad"
      },
      "outputs": [
        {
          "output_type": "execute_result",
          "data": {
            "text/plain": [
              "                Time\n",
              "count  282980.000000\n",
              "mean        0.119151\n",
              "std         0.557879\n",
              "min        -0.995253\n",
              "25%        -0.357834\n",
              "50%         0.000000\n",
              "75%         0.642166\n",
              "max         1.034919"
            ],
            "text/html": [
              "\n",
              "  <div id=\"df-8e71f2f8-e10e-4e3b-9dba-d6d345f6af8e\" class=\"colab-df-container\">\n",
              "    <div>\n",
              "<style scoped>\n",
              "    .dataframe tbody tr th:only-of-type {\n",
              "        vertical-align: middle;\n",
              "    }\n",
              "\n",
              "    .dataframe tbody tr th {\n",
              "        vertical-align: top;\n",
              "    }\n",
              "\n",
              "    .dataframe thead th {\n",
              "        text-align: right;\n",
              "    }\n",
              "</style>\n",
              "<table border=\"1\" class=\"dataframe\">\n",
              "  <thead>\n",
              "    <tr style=\"text-align: right;\">\n",
              "      <th></th>\n",
              "      <th>Time</th>\n",
              "    </tr>\n",
              "  </thead>\n",
              "  <tbody>\n",
              "    <tr>\n",
              "      <th>count</th>\n",
              "      <td>282980.000000</td>\n",
              "    </tr>\n",
              "    <tr>\n",
              "      <th>mean</th>\n",
              "      <td>0.119151</td>\n",
              "    </tr>\n",
              "    <tr>\n",
              "      <th>std</th>\n",
              "      <td>0.557879</td>\n",
              "    </tr>\n",
              "    <tr>\n",
              "      <th>min</th>\n",
              "      <td>-0.995253</td>\n",
              "    </tr>\n",
              "    <tr>\n",
              "      <th>25%</th>\n",
              "      <td>-0.357834</td>\n",
              "    </tr>\n",
              "    <tr>\n",
              "      <th>50%</th>\n",
              "      <td>0.000000</td>\n",
              "    </tr>\n",
              "    <tr>\n",
              "      <th>75%</th>\n",
              "      <td>0.642166</td>\n",
              "    </tr>\n",
              "    <tr>\n",
              "      <th>max</th>\n",
              "      <td>1.034919</td>\n",
              "    </tr>\n",
              "  </tbody>\n",
              "</table>\n",
              "</div>\n",
              "    <div class=\"colab-df-buttons\">\n",
              "\n",
              "  <div class=\"colab-df-container\">\n",
              "    <button class=\"colab-df-convert\" onclick=\"convertToInteractive('df-8e71f2f8-e10e-4e3b-9dba-d6d345f6af8e')\"\n",
              "            title=\"Convert this dataframe to an interactive table.\"\n",
              "            style=\"display:none;\">\n",
              "\n",
              "  <svg xmlns=\"http://www.w3.org/2000/svg\" height=\"24px\" viewBox=\"0 -960 960 960\">\n",
              "    <path d=\"M120-120v-720h720v720H120Zm60-500h600v-160H180v160Zm220 220h160v-160H400v160Zm0 220h160v-160H400v160ZM180-400h160v-160H180v160Zm440 0h160v-160H620v160ZM180-180h160v-160H180v160Zm440 0h160v-160H620v160Z\"/>\n",
              "  </svg>\n",
              "    </button>\n",
              "\n",
              "  <style>\n",
              "    .colab-df-container {\n",
              "      display:flex;\n",
              "      gap: 12px;\n",
              "    }\n",
              "\n",
              "    .colab-df-convert {\n",
              "      background-color: #E8F0FE;\n",
              "      border: none;\n",
              "      border-radius: 50%;\n",
              "      cursor: pointer;\n",
              "      display: none;\n",
              "      fill: #1967D2;\n",
              "      height: 32px;\n",
              "      padding: 0 0 0 0;\n",
              "      width: 32px;\n",
              "    }\n",
              "\n",
              "    .colab-df-convert:hover {\n",
              "      background-color: #E2EBFA;\n",
              "      box-shadow: 0px 1px 2px rgba(60, 64, 67, 0.3), 0px 1px 3px 1px rgba(60, 64, 67, 0.15);\n",
              "      fill: #174EA6;\n",
              "    }\n",
              "\n",
              "    .colab-df-buttons div {\n",
              "      margin-bottom: 4px;\n",
              "    }\n",
              "\n",
              "    [theme=dark] .colab-df-convert {\n",
              "      background-color: #3B4455;\n",
              "      fill: #D2E3FC;\n",
              "    }\n",
              "\n",
              "    [theme=dark] .colab-df-convert:hover {\n",
              "      background-color: #434B5C;\n",
              "      box-shadow: 0px 1px 3px 1px rgba(0, 0, 0, 0.15);\n",
              "      filter: drop-shadow(0px 1px 2px rgba(0, 0, 0, 0.3));\n",
              "      fill: #FFFFFF;\n",
              "    }\n",
              "  </style>\n",
              "\n",
              "    <script>\n",
              "      const buttonEl =\n",
              "        document.querySelector('#df-8e71f2f8-e10e-4e3b-9dba-d6d345f6af8e button.colab-df-convert');\n",
              "      buttonEl.style.display =\n",
              "        google.colab.kernel.accessAllowed ? 'block' : 'none';\n",
              "\n",
              "      async function convertToInteractive(key) {\n",
              "        const element = document.querySelector('#df-8e71f2f8-e10e-4e3b-9dba-d6d345f6af8e');\n",
              "        const dataTable =\n",
              "          await google.colab.kernel.invokeFunction('convertToInteractive',\n",
              "                                                    [key], {});\n",
              "        if (!dataTable) return;\n",
              "\n",
              "        const docLinkHtml = 'Like what you see? Visit the ' +\n",
              "          '<a target=\"_blank\" href=https://colab.research.google.com/notebooks/data_table.ipynb>data table notebook</a>'\n",
              "          + ' to learn more about interactive tables.';\n",
              "        element.innerHTML = '';\n",
              "        dataTable['output_type'] = 'display_data';\n",
              "        await google.colab.output.renderOutput(dataTable, element);\n",
              "        const docLink = document.createElement('div');\n",
              "        docLink.innerHTML = docLinkHtml;\n",
              "        element.appendChild(docLink);\n",
              "      }\n",
              "    </script>\n",
              "  </div>\n",
              "\n",
              "\n",
              "<div id=\"df-4171d3c2-ad5f-48e2-bd05-533a412b34f6\">\n",
              "  <button class=\"colab-df-quickchart\" onclick=\"quickchart('df-4171d3c2-ad5f-48e2-bd05-533a412b34f6')\"\n",
              "            title=\"Suggest charts\"\n",
              "            style=\"display:none;\">\n",
              "\n",
              "<svg xmlns=\"http://www.w3.org/2000/svg\" height=\"24px\"viewBox=\"0 0 24 24\"\n",
              "     width=\"24px\">\n",
              "    <g>\n",
              "        <path d=\"M19 3H5c-1.1 0-2 .9-2 2v14c0 1.1.9 2 2 2h14c1.1 0 2-.9 2-2V5c0-1.1-.9-2-2-2zM9 17H7v-7h2v7zm4 0h-2V7h2v10zm4 0h-2v-4h2v4z\"/>\n",
              "    </g>\n",
              "</svg>\n",
              "  </button>\n",
              "\n",
              "<style>\n",
              "  .colab-df-quickchart {\n",
              "      --bg-color: #E8F0FE;\n",
              "      --fill-color: #1967D2;\n",
              "      --hover-bg-color: #E2EBFA;\n",
              "      --hover-fill-color: #174EA6;\n",
              "      --disabled-fill-color: #AAA;\n",
              "      --disabled-bg-color: #DDD;\n",
              "  }\n",
              "\n",
              "  [theme=dark] .colab-df-quickchart {\n",
              "      --bg-color: #3B4455;\n",
              "      --fill-color: #D2E3FC;\n",
              "      --hover-bg-color: #434B5C;\n",
              "      --hover-fill-color: #FFFFFF;\n",
              "      --disabled-bg-color: #3B4455;\n",
              "      --disabled-fill-color: #666;\n",
              "  }\n",
              "\n",
              "  .colab-df-quickchart {\n",
              "    background-color: var(--bg-color);\n",
              "    border: none;\n",
              "    border-radius: 50%;\n",
              "    cursor: pointer;\n",
              "    display: none;\n",
              "    fill: var(--fill-color);\n",
              "    height: 32px;\n",
              "    padding: 0;\n",
              "    width: 32px;\n",
              "  }\n",
              "\n",
              "  .colab-df-quickchart:hover {\n",
              "    background-color: var(--hover-bg-color);\n",
              "    box-shadow: 0 1px 2px rgba(60, 64, 67, 0.3), 0 1px 3px 1px rgba(60, 64, 67, 0.15);\n",
              "    fill: var(--button-hover-fill-color);\n",
              "  }\n",
              "\n",
              "  .colab-df-quickchart-complete:disabled,\n",
              "  .colab-df-quickchart-complete:disabled:hover {\n",
              "    background-color: var(--disabled-bg-color);\n",
              "    fill: var(--disabled-fill-color);\n",
              "    box-shadow: none;\n",
              "  }\n",
              "\n",
              "  .colab-df-spinner {\n",
              "    border: 2px solid var(--fill-color);\n",
              "    border-color: transparent;\n",
              "    border-bottom-color: var(--fill-color);\n",
              "    animation:\n",
              "      spin 1s steps(1) infinite;\n",
              "  }\n",
              "\n",
              "  @keyframes spin {\n",
              "    0% {\n",
              "      border-color: transparent;\n",
              "      border-bottom-color: var(--fill-color);\n",
              "      border-left-color: var(--fill-color);\n",
              "    }\n",
              "    20% {\n",
              "      border-color: transparent;\n",
              "      border-left-color: var(--fill-color);\n",
              "      border-top-color: var(--fill-color);\n",
              "    }\n",
              "    30% {\n",
              "      border-color: transparent;\n",
              "      border-left-color: var(--fill-color);\n",
              "      border-top-color: var(--fill-color);\n",
              "      border-right-color: var(--fill-color);\n",
              "    }\n",
              "    40% {\n",
              "      border-color: transparent;\n",
              "      border-right-color: var(--fill-color);\n",
              "      border-top-color: var(--fill-color);\n",
              "    }\n",
              "    60% {\n",
              "      border-color: transparent;\n",
              "      border-right-color: var(--fill-color);\n",
              "    }\n",
              "    80% {\n",
              "      border-color: transparent;\n",
              "      border-right-color: var(--fill-color);\n",
              "      border-bottom-color: var(--fill-color);\n",
              "    }\n",
              "    90% {\n",
              "      border-color: transparent;\n",
              "      border-bottom-color: var(--fill-color);\n",
              "    }\n",
              "  }\n",
              "</style>\n",
              "\n",
              "  <script>\n",
              "    async function quickchart(key) {\n",
              "      const quickchartButtonEl =\n",
              "        document.querySelector('#' + key + ' button');\n",
              "      quickchartButtonEl.disabled = true;  // To prevent multiple clicks.\n",
              "      quickchartButtonEl.classList.add('colab-df-spinner');\n",
              "      try {\n",
              "        const charts = await google.colab.kernel.invokeFunction(\n",
              "            'suggestCharts', [key], {});\n",
              "      } catch (error) {\n",
              "        console.error('Error during call to suggestCharts:', error);\n",
              "      }\n",
              "      quickchartButtonEl.classList.remove('colab-df-spinner');\n",
              "      quickchartButtonEl.classList.add('colab-df-quickchart-complete');\n",
              "    }\n",
              "    (() => {\n",
              "      let quickchartButtonEl =\n",
              "        document.querySelector('#df-4171d3c2-ad5f-48e2-bd05-533a412b34f6 button');\n",
              "      quickchartButtonEl.style.display =\n",
              "        google.colab.kernel.accessAllowed ? 'block' : 'none';\n",
              "    })();\n",
              "  </script>\n",
              "</div>\n",
              "\n",
              "    </div>\n",
              "  </div>\n"
            ],
            "application/vnd.google.colaboratory.intrinsic+json": {
              "type": "dataframe",
              "summary": "{\n  \"name\": \"time_df\",\n  \"rows\": 8,\n  \"fields\": [\n    {\n      \"column\": \"Time\",\n      \"properties\": {\n        \"dtype\": \"number\",\n        \"std\": 100048.48791246573,\n        \"min\": -0.9952532853962156,\n        \"max\": 282980.0,\n        \"num_unique_values\": 8,\n        \"samples\": [\n          0.11915115919455047,\n          0.0,\n          282980.0\n        ],\n        \"semantic_type\": \"\",\n        \"description\": \"\"\n      }\n    }\n  ]\n}"
            }
          },
          "metadata": {},
          "execution_count": 17
        }
      ],
      "source": [
        "from sklearn.preprocessing import RobustScaler\n",
        "\n",
        "scaler = RobustScaler()\n",
        "time_col = df[\"Time\"].values.reshape(-1, 1)\n",
        "\n",
        "robust_time = scaler.fit_transform(time_col)\n",
        "\n",
        "time_df = pd.DataFrame(robust_time, columns=[\"Time\"])\n",
        "time_df.describe()"
      ]
    },
    {
      "cell_type": "markdown",
      "metadata": {
        "id": "Q1gCgThsxCaZ"
      },
      "source": [
        "#####Standard Scaler"
      ]
    },
    {
      "cell_type": "code",
      "execution_count": 18,
      "metadata": {
        "colab": {
          "base_uri": "https://localhost:8080/"
        },
        "id": "Xg5cjnN3FLWn",
        "outputId": "f01c471a-7fc2-4bc7-879f-90660961f9c5"
      },
      "outputs": [
        {
          "output_type": "stream",
          "name": "stdout",
          "text": [
            "            Time\n",
            "count  282980.00\n",
            "mean       -0.00\n",
            "std         1.00\n",
            "min        -2.00\n",
            "25%        -0.85\n",
            "50%        -0.21\n",
            "75%         0.94\n",
            "max         1.64\n"
          ]
        }
      ],
      "source": [
        "from sklearn.preprocessing import StandardScaler\n",
        "\n",
        "scaler = StandardScaler()\n",
        "time_col = df[\"Time\"].values.reshape(-1, 1)\n",
        "\n",
        "standard_time = scaler.fit_transform(time_col)\n",
        "\n",
        "time_df = pd.DataFrame(standard_time, columns=[\"Time\"])\n",
        "print(time_df.describe().round(2))"
      ]
    },
    {
      "cell_type": "markdown",
      "metadata": {
        "id": "lL6BA0fDFZUj"
      },
      "source": [
        "#####We'll go with the StandardScaler since it seems to keep it's original distribution shape while remaining relatively small like the other column distributions."
      ]
    },
    {
      "cell_type": "code",
      "execution_count": 19,
      "metadata": {
        "id": "v4YutYJwFgqg"
      },
      "outputs": [],
      "source": [
        "df[\"Time Scaled\"] = scaler.fit_transform(time_col)\n",
        "\n",
        "amount_col = df[\"Amount\"].values.reshape(-1, 1)\n",
        "df[\"Amount Scaled\"] = scaler.fit_transform(amount_col)\n"
      ]
    },
    {
      "cell_type": "code",
      "execution_count": 20,
      "metadata": {
        "id": "l5mDvM1hG-sD"
      },
      "outputs": [],
      "source": [
        "df.drop(columns=[\"Amount\", \"Time\"], inplace=True)"
      ]
    },
    {
      "cell_type": "markdown",
      "metadata": {
        "id": "F2dS6-CNzktq"
      },
      "source": [
        "#####Let's reorder our columns quickly.\n",
        "#####It's important that we put the class label as our first column so that it's easier for our CNN custom dataset later."
      ]
    },
    {
      "cell_type": "code",
      "execution_count": 21,
      "metadata": {
        "id": "AERNFx7fIfVE"
      },
      "outputs": [],
      "source": [
        "df = df[[\"Class\", \"Amount Scaled\", \"Time Scaled\", \"V1\", \"V2\", \"V3\", \"V4\", \"V5\", \"V6\", \"V7\", \"V8\", \"V9\", \"V10\", \"V11\", \"V12\", \"V13\", \"V14\", \"V15\", \"V16\", \"V17\", \"V18\", \"V19\", \"V20\", \"V21\", \"V22\", \"V23\", \"V24\", \"V25\", \"V26\", \"V27\", \"V28\"]]"
      ]
    },
    {
      "cell_type": "markdown",
      "metadata": {
        "id": "kZEfjRcBIDPQ"
      },
      "source": [
        "##2.2 Splitting our data\n",
        "#####It's time to split our data into training and testing splits.\n",
        "#####Note: we will not be doing cross validation. This is because our dataset is already almost 300k values. Moreover, given that we are using a CNN for this classification task, doing cross validation would be overkill."
      ]
    },
    {
      "cell_type": "code",
      "execution_count": 22,
      "metadata": {
        "id": "jzauYywfMPW4"
      },
      "outputs": [],
      "source": [
        "from sklearn.model_selection import train_test_split\n",
        "\n",
        "training_df, test_df = train_test_split(df, test_size=0.15, stratify=df[\"Class\"], random_state=24)"
      ]
    },
    {
      "cell_type": "markdown",
      "metadata": {
        "id": "wMrW54dn0xsf"
      },
      "source": [
        "####Parameter explanation\n",
        "\n",
        "*   Given the high imbalance of our dataset, it is important that we get extra rows of the minority class to train on, so we will go with a 0.85/0.15 split.\n",
        "*   Enabling Stratify ensures that both the training and testing dataframes get a proportionate amount of the minority class in their split. Stratify will also ensure that both of them are shuffled.\n",
        "*   Random_state allows for replicable results (my lucky number is 24).\n",
        "\n",
        "\n"
      ]
    },
    {
      "cell_type": "markdown",
      "metadata": {
        "id": "yaJM9oYQtTgL"
      },
      "source": [
        "##2.3 Dealing with our class label imbalance"
      ]
    },
    {
      "cell_type": "code",
      "execution_count": 23,
      "metadata": {
        "colab": {
          "base_uri": "https://localhost:8080/",
          "height": 176
        },
        "id": "EhMt925fN7Bf",
        "outputId": "f43cd92f-833d-4ca3-916f-0decedd48840"
      },
      "outputs": [
        {
          "output_type": "execute_result",
          "data": {
            "text/plain": [
              "Class\n",
              "0    240138\n",
              "1       395\n",
              "Name: count, dtype: int64"
            ],
            "text/html": [
              "<div>\n",
              "<style scoped>\n",
              "    .dataframe tbody tr th:only-of-type {\n",
              "        vertical-align: middle;\n",
              "    }\n",
              "\n",
              "    .dataframe tbody tr th {\n",
              "        vertical-align: top;\n",
              "    }\n",
              "\n",
              "    .dataframe thead th {\n",
              "        text-align: right;\n",
              "    }\n",
              "</style>\n",
              "<table border=\"1\" class=\"dataframe\">\n",
              "  <thead>\n",
              "    <tr style=\"text-align: right;\">\n",
              "      <th></th>\n",
              "      <th>count</th>\n",
              "    </tr>\n",
              "    <tr>\n",
              "      <th>Class</th>\n",
              "      <th></th>\n",
              "    </tr>\n",
              "  </thead>\n",
              "  <tbody>\n",
              "    <tr>\n",
              "      <th>0</th>\n",
              "      <td>240138</td>\n",
              "    </tr>\n",
              "    <tr>\n",
              "      <th>1</th>\n",
              "      <td>395</td>\n",
              "    </tr>\n",
              "  </tbody>\n",
              "</table>\n",
              "</div><br><label><b>dtype:</b> int64</label>"
            ]
          },
          "metadata": {},
          "execution_count": 23
        }
      ],
      "source": [
        "training_df[\"Class\"].value_counts()"
      ]
    },
    {
      "cell_type": "markdown",
      "metadata": {
        "id": "cJUKmOcgscR8"
      },
      "source": [
        "#####Remember the class label imbalance we saw previously? If unaddressed, this issue could cause our CNN to overfit to the imbalance, leading to our CNN predicting the majority class (non-fraudulent) excessively. Given how large the imbalance is, it might even fail to predict the minority class (fraudulent) altogether."
      ]
    },
    {
      "cell_type": "code",
      "execution_count": 24,
      "metadata": {
        "colab": {
          "base_uri": "https://localhost:8080/"
        },
        "id": "SNmWD1Z8TamX",
        "outputId": "710291cd-df18-4871-9a2e-5537e7a33a07"
      },
      "outputs": [
        {
          "output_type": "stream",
          "name": "stdout",
          "text": [
            "Currently 99.84% non-fraud and 0.16% fraud\n"
          ]
        }
      ],
      "source": [
        "print(f\"Currently {100 * training_df['Class'].value_counts()[0]/training_df.shape[0]:.2f}% non-fraud and {100*training_df['Class'].value_counts()[1]/training_df.shape[0]:.2f}% fraud\")"
      ]
    },
    {
      "cell_type": "code",
      "execution_count": 25,
      "metadata": {
        "colab": {
          "base_uri": "https://localhost:8080/",
          "height": 456
        },
        "id": "y-yoTVTuM7H5",
        "outputId": "58adc14d-f38a-4475-b076-d21635ce8d8e"
      },
      "outputs": [
        {
          "output_type": "display_data",
          "data": {
            "text/plain": [
              "<Figure size 640x480 with 1 Axes>"
            ],
            "image/png": "[encoded data removed]"
          },
          "metadata": {}
        }
      ],
      "source": [
        "sns.barplot(x=\"Class\", y=\"count\", data=training_df[\"Class\"].value_counts().reset_index())\n",
        "plt.xticks(ticks=[0, 1], labels=[\"Non-Fraud\", \"Fraud\"])\n",
        "plt.show()"
      ]
    },
    {
      "cell_type": "markdown",
      "metadata": {
        "id": "6WyQI5_q2DEP"
      },
      "source": [
        "#####To deal with the imbalance, there are a few techniques we could use, including undersampling and SMOTE.\n",
        "#####Both were tested and the best results were ultimately achieved with **undersampling**.\n",
        "#####Undersampling works by taking the majority class and reducing its' number of rows in the dataframe to that of the minority class, thus giving an even balance to train on. Let's apply it:"
      ]
    },
    {
      "cell_type": "code",
      "execution_count": 26,
      "metadata": {
        "id": "8HPYfFaLKzxr"
      },
      "outputs": [],
      "source": [
        "one_df = training_df.query(\"Class == 1\")\n",
        "zero_df = training_df.query(\"Class == 0\").sample(len(one_df))\n",
        "\n",
        "undersampled_df = pd.concat([zero_df, one_df], ignore_index=True).sample(frac=1).reset_index(drop=True)"
      ]
    },
    {
      "cell_type": "markdown",
      "metadata": {
        "id": "9GvrNnrYAgzL"
      },
      "source": [
        "#####Now if we look at the class labels balance:"
      ]
    },
    {
      "cell_type": "code",
      "execution_count": 27,
      "metadata": {
        "colab": {
          "base_uri": "https://localhost:8080/",
          "height": 176
        },
        "id": "NKT3iGvhAWFi",
        "outputId": "38ce0001-3ac6-42a3-8171-b491e2e097a9"
      },
      "outputs": [
        {
          "output_type": "execute_result",
          "data": {
            "text/plain": [
              "Class\n",
              "0    395\n",
              "1    395\n",
              "Name: count, dtype: int64"
            ],
            "text/html": [
              "<div>\n",
              "<style scoped>\n",
              "    .dataframe tbody tr th:only-of-type {\n",
              "        vertical-align: middle;\n",
              "    }\n",
              "\n",
              "    .dataframe tbody tr th {\n",
              "        vertical-align: top;\n",
              "    }\n",
              "\n",
              "    .dataframe thead th {\n",
              "        text-align: right;\n",
              "    }\n",
              "</style>\n",
              "<table border=\"1\" class=\"dataframe\">\n",
              "  <thead>\n",
              "    <tr style=\"text-align: right;\">\n",
              "      <th></th>\n",
              "      <th>count</th>\n",
              "    </tr>\n",
              "    <tr>\n",
              "      <th>Class</th>\n",
              "      <th></th>\n",
              "    </tr>\n",
              "  </thead>\n",
              "  <tbody>\n",
              "    <tr>\n",
              "      <th>0</th>\n",
              "      <td>395</td>\n",
              "    </tr>\n",
              "    <tr>\n",
              "      <th>1</th>\n",
              "      <td>395</td>\n",
              "    </tr>\n",
              "  </tbody>\n",
              "</table>\n",
              "</div><br><label><b>dtype:</b> int64</label>"
            ]
          },
          "metadata": {},
          "execution_count": 27
        }
      ],
      "source": [
        "undersampled_df[\"Class\"].value_counts()"
      ]
    },
    {
      "cell_type": "markdown",
      "metadata": {
        "id": "y-NAnOWMAr0a"
      },
      "source": [
        "#####Perfect."
      ]
    },
    {
      "cell_type": "markdown",
      "metadata": {
        "id": "F2ELKf9Kt4Mo"
      },
      "source": [
        "#####You might have noticed that we only applied our undersampling technique to the training_df. This is because we only need an even distribution between the class labels when we train our model so that our model does not overfit to predicting non-fraud too often.\n",
        "#####We use the testing_df....for testing. Given that we want to model a real world scenario, and that the class imbalance present in the original dataset also exists in real life (only a small % of transactions in the real world are fraudulent), we therefore, want to keep this imbalance in our testing_df.\n",
        "\n"
      ]
    },
    {
      "cell_type": "markdown",
      "metadata": {
        "id": "V9LtWcSUBgbh"
      },
      "source": [
        "###A final note:\n",
        "#####I did not do any outlier removing because these outliers are crucial in finding fraud transactions.\n",
        "#####While feature understanding is included in the next section, feature relations were also skipped given that the features themselves are unclear. Moreover, no one feature has a significant correlation with the class labels column (as you're about to see)."
      ]
    },
    {
      "cell_type": "markdown",
      "metadata": {
        "id": "tt5Dk_qqdHPX"
      },
      "source": [
        "#3. Feature Understanding"
      ]
    },
    {
      "cell_type": "markdown",
      "metadata": {
        "id": "Gzt3sJSBKxgF"
      },
      "source": [
        "#####Let's see if there are any *significant* correlations between our columns and our class labels:"
      ]
    },
    {
      "cell_type": "code",
      "execution_count": 28,
      "metadata": {
        "colab": {
          "base_uri": "https://localhost:8080/",
          "height": 1000
        },
        "id": "TPJv5608KRXG",
        "outputId": "d993b6a4-7dfd-4388-d056-8132194d854d"
      },
      "outputs": [
        {
          "output_type": "execute_result",
          "data": {
            "text/plain": [
              "Class            1.000000\n",
              "Amount Scaled    0.006533\n",
              "Time Scaled     -0.013012\n",
              "V1              -0.100950\n",
              "V2               0.089696\n",
              "V3              -0.190200\n",
              "V4               0.130052\n",
              "V5              -0.096833\n",
              "V6              -0.042167\n",
              "V7              -0.184753\n",
              "V8               0.020931\n",
              "V9              -0.093515\n",
              "V10             -0.212381\n",
              "V11              0.150564\n",
              "V12             -0.255123\n",
              "V13             -0.003978\n",
              "V14             -0.293880\n",
              "V15             -0.003502\n",
              "V16             -0.195702\n",
              "V17             -0.324176\n",
              "V18             -0.111559\n",
              "V19              0.036827\n",
              "V20              0.018464\n",
              "V21              0.042439\n",
              "V22              0.001029\n",
              "V23             -0.002867\n",
              "V24             -0.007002\n",
              "V25              0.002981\n",
              "V26              0.003608\n",
              "V27              0.016789\n",
              "V28              0.008931\n",
              "dtype: float64"
            ],
            "text/html": [
              "<div>\n",
              "<style scoped>\n",
              "    .dataframe tbody tr th:only-of-type {\n",
              "        vertical-align: middle;\n",
              "    }\n",
              "\n",
              "    .dataframe tbody tr th {\n",
              "        vertical-align: top;\n",
              "    }\n",
              "\n",
              "    .dataframe thead th {\n",
              "        text-align: right;\n",
              "    }\n",
              "</style>\n",
              "<table border=\"1\" class=\"dataframe\">\n",
              "  <thead>\n",
              "    <tr style=\"text-align: right;\">\n",
              "      <th></th>\n",
              "      <th>0</th>\n",
              "    </tr>\n",
              "  </thead>\n",
              "  <tbody>\n",
              "    <tr>\n",
              "      <th>Class</th>\n",
              "      <td>1.000000</td>\n",
              "    </tr>\n",
              "    <tr>\n",
              "      <th>Amount Scaled</th>\n",
              "      <td>0.006533</td>\n",
              "    </tr>\n",
              "    <tr>\n",
              "      <th>Time Scaled</th>\n",
              "      <td>-0.013012</td>\n",
              "    </tr>\n",
              "    <tr>\n",
              "      <th>V1</th>\n",
              "      <td>-0.100950</td>\n",
              "    </tr>\n",
              "    <tr>\n",
              "      <th>V2</th>\n",
              "      <td>0.089696</td>\n",
              "    </tr>\n",
              "    <tr>\n",
              "      <th>V3</th>\n",
              "      <td>-0.190200</td>\n",
              "    </tr>\n",
              "    <tr>\n",
              "      <th>V4</th>\n",
              "      <td>0.130052</td>\n",
              "    </tr>\n",
              "    <tr>\n",
              "      <th>V5</th>\n",
              "      <td>-0.096833</td>\n",
              "    </tr>\n",
              "    <tr>\n",
              "      <th>V6</th>\n",
              "      <td>-0.042167</td>\n",
              "    </tr>\n",
              "    <tr>\n",
              "      <th>V7</th>\n",
              "      <td>-0.184753</td>\n",
              "    </tr>\n",
              "    <tr>\n",
              "      <th>V8</th>\n",
              "      <td>0.020931</td>\n",
              "    </tr>\n",
              "    <tr>\n",
              "      <th>V9</th>\n",
              "      <td>-0.093515</td>\n",
              "    </tr>\n",
              "    <tr>\n",
              "      <th>V10</th>\n",
              "      <td>-0.212381</td>\n",
              "    </tr>\n",
              "    <tr>\n",
              "      <th>V11</th>\n",
              "      <td>0.150564</td>\n",
              "    </tr>\n",
              "    <tr>\n",
              "      <th>V12</th>\n",
              "      <td>-0.255123</td>\n",
              "    </tr>\n",
              "    <tr>\n",
              "      <th>V13</th>\n",
              "      <td>-0.003978</td>\n",
              "    </tr>\n",
              "    <tr>\n",
              "      <th>V14</th>\n",
              "      <td>-0.293880</td>\n",
              "    </tr>\n",
              "    <tr>\n",
              "      <th>V15</th>\n",
              "      <td>-0.003502</td>\n",
              "    </tr>\n",
              "    <tr>\n",
              "      <th>V16</th>\n",
              "      <td>-0.195702</td>\n",
              "    </tr>\n",
              "    <tr>\n",
              "      <th>V17</th>\n",
              "      <td>-0.324176</td>\n",
              "    </tr>\n",
              "    <tr>\n",
              "      <th>V18</th>\n",
              "      <td>-0.111559</td>\n",
              "    </tr>\n",
              "    <tr>\n",
              "      <th>V19</th>\n",
              "      <td>0.036827</td>\n",
              "    </tr>\n",
              "    <tr>\n",
              "      <th>V20</th>\n",
              "      <td>0.018464</td>\n",
              "    </tr>\n",
              "    <tr>\n",
              "      <th>V21</th>\n",
              "      <td>0.042439</td>\n",
              "    </tr>\n",
              "    <tr>\n",
              "      <th>V22</th>\n",
              "      <td>0.001029</td>\n",
              "    </tr>\n",
              "    <tr>\n",
              "      <th>V23</th>\n",
              "      <td>-0.002867</td>\n",
              "    </tr>\n",
              "    <tr>\n",
              "      <th>V24</th>\n",
              "      <td>-0.007002</td>\n",
              "    </tr>\n",
              "    <tr>\n",
              "      <th>V25</th>\n",
              "      <td>0.002981</td>\n",
              "    </tr>\n",
              "    <tr>\n",
              "      <th>V26</th>\n",
              "      <td>0.003608</td>\n",
              "    </tr>\n",
              "    <tr>\n",
              "      <th>V27</th>\n",
              "      <td>0.016789</td>\n",
              "    </tr>\n",
              "    <tr>\n",
              "      <th>V28</th>\n",
              "      <td>0.008931</td>\n",
              "    </tr>\n",
              "  </tbody>\n",
              "</table>\n",
              "</div><br><label><b>dtype:</b> float64</label>"
            ]
          },
          "metadata": {},
          "execution_count": 28
        }
      ],
      "source": [
        "df.corrwith(df[\"Class\"])"
      ]
    },
    {
      "cell_type": "markdown",
      "metadata": {
        "id": "ZzboTPqbO1h4"
      },
      "source": [
        "#####Statistically speaking, there are no significant correlations. However, we can still take a look at the distribution of any features with a low correlation with our class labels, which we will define loosely at .25 (or greater/less):"
      ]
    },
    {
      "cell_type": "code",
      "execution_count": 29,
      "metadata": {
        "colab": {
          "base_uri": "https://localhost:8080/",
          "height": 395
        },
        "id": "Yvrkv-lGK-t2",
        "outputId": "1e1a4a90-2938-44c3-d272-691c1c74ea54"
      },
      "outputs": [
        {
          "output_type": "stream",
          "name": "stdout",
          "text": [
            "Kurtosis of V12: 1.1891016198318534\n",
            "Kurtosis of V14: 0.7488989090857641\n",
            "Kurtosis of V17: 0.26330675247853597\n"
          ]
        },
        {
          "output_type": "display_data",
          "data": {
            "text/plain": [
              "<Figure size 1800x500 with 3 Axes>"
            ],
            "image/png": "[encoded data removed]"
          },
          "metadata": {}
        }
      ],
      "source": [
        "from scipy.stats import kurtosis\n",
        "\n",
        "figure, axis = plt.subplots(1, 3, figsize=(18, 5), gridspec_kw={\"wspace\": 0.35})\n",
        "axes = axis.flatten()\n",
        "\n",
        "columns = [\"V12\", \"V14\", \"V17\"]\n",
        "\n",
        "for i, col in enumerate(columns):\n",
        "  sns.kdeplot(df[col], ax=axes[i])\n",
        "  axes[i].set_title(col)\n",
        "  axes[i].set_xlabel(\"Value\")\n",
        "  axes[i].set_ylabel(\"Number of rows\")\n",
        "  axes[i].set_xlim(df[col].quantile(0.001), df[col].quantile(0.99999))\n",
        "  print(\"Kurtosis of\", col + \":\", kurtosis(df[col][(df[col] > df[col].quantile(0.01)) & (df[col] < df[col].quantile(0.99))])) #We are using Fisher's definition\n",
        "plt.show()"
      ]
    },
    {
      "cell_type": "markdown",
      "metadata": {
        "id": "_v56rZ-ssP-f"
      },
      "source": [
        "#####The only important information we can derive from these graphs is that our categories with a low negative correlation with our class labels have a relatively even distribution."
      ]
    },
    {
      "cell_type": "markdown",
      "metadata": {
        "id": "OUn9YInDCFuy"
      },
      "source": [
        "#4. CNN Classification Model\n",
        "###Let's begin the fun part!"
      ]
    },
    {
      "cell_type": "markdown",
      "metadata": {
        "id": "ZURZhwh6HoqA"
      },
      "source": [
        "##4.1 Setting up to begin our CNN training\n",
        "#####Before we train our CNN model we need to do a few steps.\n"
      ]
    },
    {
      "cell_type": "markdown",
      "metadata": {
        "id": "lLF_OsCaIB7t"
      },
      "source": [
        "####Dataset/Dataloaders\n",
        "#####Remember that we are working with the 1. undersampled_df for training and 2. test_df for testing. We need to create custom datasets that make it easier to work with these dfs. We then need to use these custom datasets and pass them into dataloaders. Dataloaders enable our data to be trained in batches. Regarding batch size, the higher the batch size the lower the computational power required, but the higher chance that we miss out on capturing patterns in our features. I went with a default batch size of 32. In addition, dataloaders also allow each batch to be shuffled.\n"
      ]
    },
    {
      "cell_type": "code",
      "execution_count": 30,
      "metadata": {
        "id": "VIx-v4Io15KY"
      },
      "outputs": [],
      "source": [
        "class CardDataset(Dataset):\n",
        "    def __init__(self, dataframe):\n",
        "        self.dataframe = dataframe\n",
        "\n",
        "    def __len__(self):\n",
        "        return len(self.dataframe)\n",
        "\n",
        "    def __getitem__(self, index):\n",
        "        row = self.dataframe.iloc[index]\n",
        "        class_value = torch.tensor(row[0]).long()  #This is why we want our target variable in the first column\n",
        "        features = torch.tensor(row[1:].values, dtype=torch.float32)  #Features in the remaining columns\n",
        "        return features, class_value, index\n",
        "\n",
        "#Create dataset and dataloader\n",
        "training_dataset = CardDataset(dataframe=undersampled_df)\n",
        "training_dataloader = DataLoader(training_dataset, batch_size=32, shuffle=True)\n",
        "\n",
        "test_dataset = CardDataset(dataframe=test_df)\n",
        "test_dataloader = DataLoader(test_dataset, batch_size=32, shuffle=True)"
      ]
    },
    {
      "cell_type": "markdown",
      "metadata": {
        "id": "hxiycBPYdDdP"
      },
      "source": [
        "####Coding our CNN"
      ]
    },
    {
      "cell_type": "code",
      "execution_count": 31,
      "metadata": {
        "id": "7aU-hkEm69op"
      },
      "outputs": [],
      "source": [
        "class CreditCardFraudCNN(nn.Module):\n",
        "    def __init__(self, number_of_features):\n",
        "        super().__init__()\n",
        "        self.convolution_layer_1 = nn.Conv1d(in_channels=1, out_channels=8, padding=1, kernel_size=3) #Padding of 1 in conv layers makes it so the data size is the same after passing through\n",
        "        self.convolution_layer_2 = nn.Conv1d(in_channels=8, out_channels=16, padding=1, kernel_size=3) #A kernel size of 3x3 on the filter is standard\n",
        "        self.pool_layer = nn.MaxPool1d(kernel_size=2, padding=0, stride=2) #Standard pooling layer\n",
        "\n",
        "        input_size_for_linear = 16 * (number_of_features//4) #See below. The number of features is divided by 4 because the pooling layer is applied twice in the forward pass. Given a kernel of 2 and stride of 2, the pooling layer essentially\n",
        "        #goes through every 2 cells and picks the best one, choosing 1 cell out of 2. So each time we go through the pooling layer the data is halved. Doing it twice, the number of features is ultimately divided by 4.\n",
        "\n",
        "        self.linear_layer_1 = nn.Linear(input_size_for_linear, 128)\n",
        "        self.linear_layer_2 = nn.Linear(128, 2)\n",
        "\n",
        "    def forward(self, x):\n",
        "        x = torch.unsqueeze(x, 1) #We need to add an extra layer to our features before they are passed into the conv layer\n",
        "        x = self.pool_layer(torch.relu(self.convolution_layer_1(x))) #Apply relu to remove negative values and for better results\n",
        "        x = self.pool_layer(torch.relu(self.convolution_layer_2(x)))\n",
        "        x = torch.flatten(x, 1) #We no longer need the extra layer\n",
        "\n",
        "        x = torch.relu(self.linear_layer_1(x)) #Apply ReLU again\n",
        "        x = self.linear_layer_2(x) #Removing ReLU here gives better results\n",
        "        return x\n",
        "\n",
        "undersampled_df_length = len(undersampled_df.columns) - 1 #Exclude class labels so len - 1\n",
        "net = CreditCardFraudCNN(undersampled_df_length)"
      ]
    },
    {
      "cell_type": "markdown",
      "metadata": {
        "id": "T9bSrWSvdG68"
      },
      "source": [
        "####CNN Choices:\n",
        "#####All parameters above were optimized after lots of trial and error.\n",
        "#####Two convolutional layers were chosen with a pooling layer. The conv layers are 1d, given that our data is just tabular.\n",
        "#####Two linear layers were used.\n"
      ]
    },
    {
      "cell_type": "markdown",
      "metadata": {
        "id": "S5lIjQ7efyOi"
      },
      "source": [
        "####Choosing an optimizer and a loss function\n"
      ]
    },
    {
      "cell_type": "code",
      "execution_count": 32,
      "metadata": {
        "id": "EyERM_5B7M16"
      },
      "outputs": [],
      "source": [
        "class_weights = torch.tensor([3.5, 1.0])\n",
        "optimizer = torch.optim.SGD(net.parameters(), lr=0.001, momentum=0.9)\n",
        "loss_function = nn.CrossEntropyLoss(weight=class_weights)"
      ]
    },
    {
      "cell_type": "markdown",
      "metadata": {
        "id": "uuxd6wc4f5Pt"
      },
      "source": [
        "#####The weights on the loss_function were customized to 3.5, 1.0. This means that the CNN will apply a penalty 3.5x harder when the model misclassifies a 1 (fraud) as being a 0 (non-fraud). This is because a primary objective of this model is to prevent false negatives, as explained at the start of the notebook."
      ]
    },
    {
      "cell_type": "markdown",
      "metadata": {
        "id": "IaAq_rnDg1DG"
      },
      "source": [
        "##4.2 Training our model\n",
        "#####We have all the steps we need to train our model, so let's do just that:"
      ]
    },
    {
      "cell_type": "code",
      "execution_count": 33,
      "metadata": {
        "colab": {
          "base_uri": "https://localhost:8080/"
        },
        "id": "a9NMK2xk7NM-",
        "outputId": "125879fc-ee8c-46df-aa67-74b7a8bddcb4"
      },
      "outputs": [
        {
          "output_type": "stream",
          "name": "stderr",
          "text": [
            "<ipython-input-30-aff872c7452b>:10: FutureWarning: Series.__getitem__ treating keys as positions is deprecated. In a future version, integer keys will always be treated as labels (consistent with DataFrame behavior). To access a value by position, use `ser.iloc[pos]`\n",
            "  class_value = torch.tensor(row[0]).long()  #This is why we want our target variable in the first column\n"
          ]
        },
        {
          "output_type": "stream",
          "name": "stdout",
          "text": [
            "Epoch 0 | Loss value: 17.102287709712982\n",
            "Epoch 1 | Loss value: 14.035386204719543\n",
            "Epoch 2 | Loss value: 11.43876576423645\n",
            "Epoch 3 | Loss value: 9.359177261590958\n",
            "Epoch 4 | Loss value: 7.611811995506287\n",
            "Epoch 5 | Loss value: 6.461604714393616\n",
            "Epoch 6 | Loss value: 5.659483298659325\n",
            "Epoch 7 | Loss value: 5.0981917679309845\n",
            "Epoch 8 | Loss value: 4.796925216913223\n",
            "Epoch 9 | Loss value: 4.5399623438715935\n",
            "Epoch 10 | Loss value: 4.33661226183176\n",
            "Epoch 11 | Loss value: 4.247429206967354\n",
            "Epoch 12 | Loss value: 4.084699288010597\n",
            "Epoch 13 | Loss value: 3.9728573337197304\n",
            "Epoch 14 | Loss value: 3.862715169787407\n",
            "Epoch 15 | Loss value: 3.797246214002371\n",
            "Epoch 16 | Loss value: 3.8005444668233395\n",
            "Epoch 17 | Loss value: 3.782199438661337\n",
            "Epoch 18 | Loss value: 3.690689004957676\n",
            "Epoch 19 | Loss value: 3.64995351806283\n"
          ]
        }
      ],
      "source": [
        "epochs = 20\n",
        "\n",
        "for epoch in range(epochs):\n",
        "    current_loss_value = 0.0\n",
        "\n",
        "    for i, data in enumerate(training_dataloader, 0):\n",
        "        features, class_labels, _ = data\n",
        "\n",
        "        optimizer.zero_grad() #makes it run faster\n",
        "        model_train_predictions = net(features)\n",
        "        loss = loss_function(model_train_predictions, class_labels)\n",
        "\n",
        "        loss.backward()\n",
        "        optimizer.step()\n",
        "\n",
        "        current_loss_value += loss.item()\n",
        "\n",
        "    print(\"Epoch\", epoch, \"| Loss value:\", current_loss_value)"
      ]
    },
    {
      "cell_type": "markdown",
      "metadata": {
        "id": "LXhyvV5Jg50F"
      },
      "source": [
        "#####Training just used standard CNN training procedure.\n",
        "#####I found the model had best results training over 20 epochs.\n"
      ]
    },
    {
      "cell_type": "markdown",
      "metadata": {
        "id": "KSeUqKBvhNt9"
      },
      "source": [
        "#####Now that we've trained our model, let's test whether it works!"
      ]
    },
    {
      "cell_type": "markdown",
      "metadata": {
        "id": "dUWJE87ahDjc"
      },
      "source": [
        "##4.3 Testing + Results"
      ]
    },
    {
      "cell_type": "markdown",
      "metadata": {
        "id": "SXap6bC7_5n3"
      },
      "source": [
        "###4.3.1 Testing"
      ]
    },
    {
      "cell_type": "code",
      "execution_count": 34,
      "metadata": {
        "colab": {
          "base_uri": "https://localhost:8080/"
        },
        "id": "zLLQNpAU7OYb",
        "outputId": "687de026-9c7b-45ac-a381-5a185d2e914c"
      },
      "outputs": [
        {
          "output_type": "stream",
          "name": "stderr",
          "text": [
            "<ipython-input-30-aff872c7452b>:10: FutureWarning: Series.__getitem__ treating keys as positions is deprecated. In a future version, integer keys will always be treated as labels (consistent with DataFrame behavior). To access a value by position, use `ser.iloc[pos]`\n",
            "  class_value = torch.tensor(row[0]).long()  #This is why we want our target variable in the first column\n"
          ]
        }
      ],
      "source": [
        "true_positive = 0\n",
        "true_negative = 0\n",
        "false_positive = 0\n",
        "false_negative = 0 #The worst\n",
        "\n",
        "predictions = []\n",
        "indexes = []\n",
        "\n",
        "with torch.no_grad(): #Once again for speedup\n",
        "    for data in test_dataloader:\n",
        "        features, class_labels, index = data\n",
        "        model_test_predictions = net(features)\n",
        "        _, test_prediction_labels = torch.max(model_test_predictions, 1) #Just get the result of the maximum value from each\n",
        "\n",
        "        true_positive += ((test_prediction_labels == 1) & (class_labels == 1)).sum().item()\n",
        "        true_negative += ((test_prediction_labels == 0) & (class_labels == 0)).sum().item()\n",
        "        false_negative += ((test_prediction_labels == 0) & (class_labels == 1)).sum().item()\n",
        "        false_positive += ((test_prediction_labels == 1) & (class_labels == 0)).sum().item()\n",
        "\n",
        "        #add the predictions and the indexes\n",
        "        indexes.extend(index.tolist())\n",
        "        predictions.extend(test_prediction_labels.tolist())\n",
        "\n",
        "#Finally, we add every the prediction of every index in predictions/indexes to the testing_df in a new column\n",
        "\n",
        "test_df.insert(0, \"Predicted Class\", 0)\n",
        "for i in range(len(predictions)):\n",
        "  test_df.iloc[indexes[i], 0] = predictions[i]\n",
        "\n",
        "test_df = test_df[[\"Predicted Class\", \"Class\", \"Amount Scaled\", \"Time Scaled\", \"V1\", \"V2\", \"V3\", \"V4\", \"V5\", \"V6\", \"V7\", \"V8\", \"V9\", \"V10\", \"V11\", \"V12\", \"V13\", \"V14\", \"V15\", \"V16\", \"V17\", \"V18\", \"V19\", \"V20\", \"V21\", \"V22\", \"V23\", \"V24\", \"V25\", \"V26\", \"V27\", \"V28\"]]\n"
      ]
    },
    {
      "cell_type": "markdown",
      "metadata": {
        "id": "pON8QYcUhVDG"
      },
      "source": [
        "We...\n",
        "\n",
        "*   Applied the CNN to the test_df.\n",
        "*   Counted the number of true positives, false positives, true negatives, and false negatives.\n",
        "*   Added our predictions to a new column in our test dataframe. Let's see that below:"
      ]
    },
    {
      "cell_type": "code",
      "execution_count": 35,
      "metadata": {
        "id": "x6xWmZdt0pXi",
        "colab": {
          "base_uri": "https://localhost:8080/",
          "height": 456
        },
        "outputId": "30dd0db7-16e8-4f48-d740-186bb9fb7074"
      },
      "outputs": [
        {
          "output_type": "execute_result",
          "data": {
            "text/plain": [
              "        Predicted Class  Class  Amount Scaled  Time Scaled        V1        V2        V3        V4        V5        V6        V7        V8        V9       V10       V11       V12       V13       V14       V15       V16       V17       V18       V19       V20       V21       V22       V23       V24       V25       V26       V27       V28\n",
              "13871                 0      0      -0.294706    -1.478915 -1.345153  0.001335  2.811254 -0.761701  0.026696 -0.066165 -0.029167 -0.067116  2.114032 -1.101602  0.320421 -2.681890  0.967194  0.692011 -0.637991 -0.064011  0.619916 -0.446780 -0.799418 -0.204944 -0.249620 -0.198664 -0.083343  0.077386  0.009455  0.849592 -0.459928 -0.096494\n",
              "162806                0      0      -0.294187     0.432531  1.900061  0.389143 -1.339856  3.637153  0.740999  0.170255  0.247572  0.105516 -1.018452  1.745975 -0.014082 -1.083081 -2.924572  1.149132 -1.446864  0.660033 -0.651284  0.313332 -1.261439 -0.432927  0.292050  0.737103 -0.012706  0.651982  0.303240  0.251442 -0.087612 -0.071719\n",
              "53644                 0      0       2.232118    -1.027058  0.058473 -3.172833  0.056879 -1.526842 -1.986415  0.523719 -0.323160  0.061639  0.692010 -0.686550  0.899298  1.791522  1.040328 -0.397442 -0.284255 -2.335874  0.440341  1.211795  0.220343  0.842306 -0.095274 -0.860401 -0.515467 -0.231847  0.038395 -0.139086 -0.027290  0.125233\n",
              "52154                 0      0      -0.290878    -1.043569 -0.559218  0.831137  2.200541  0.961712 -0.777673 -0.032790 -0.013474  0.150251 -0.114770  0.087420 -0.080991 -0.928189 -1.555775  0.387904  2.483466 -0.499870  0.577585 -0.112558  1.033820 -0.004187  0.060836  0.091310  0.030439  0.377016 -0.635555  0.434908 -0.131202  0.105883\n",
              "29314                 0      0      -0.350841    -1.251733 -0.634639  0.775521  1.728206 -1.391975 -0.144804 -0.740882  0.529490  0.093510 -0.285506 -0.561915  1.222256  0.674518 -0.030743  0.133092 -0.200318  0.793464 -0.928952  0.139700 -0.396182  0.038550 -0.032567 -0.068968 -0.094961  0.365092 -0.372643  0.701573  0.256163  0.163883\n",
              "...                 ...    ...            ...          ...       ...       ...       ...       ...       ...       ...       ...       ...       ...       ...       ...       ...       ...       ...       ...       ...       ...       ...       ...       ...       ...       ...       ...       ...       ...       ...       ...       ...\n",
              "44530                 0      0       0.292477    -1.113386  0.801798 -0.386188  0.668860  1.252723 -0.674806 -0.030171 -0.131538  0.203593  0.025712  0.108457  1.536118  0.412438 -1.309323  0.753530  0.827051  0.341183 -0.383562 -0.031312 -0.609441  0.077260 -0.019526 -0.489765  0.034173  0.145801  0.060479 -0.619874  0.010446  0.047836\n",
              "83549                 0      0      -0.061914    -0.735810  0.997685 -1.104295  1.665233  1.007489 -1.596507  1.304956 -1.436864  0.544889  0.305480  0.517911  0.247137  1.282420 -0.008543 -0.950288 -2.252489 -2.169438  0.630633  1.065343 -0.611992 -0.466637 -0.376937 -0.264589 -0.027246  0.024319  0.311113 -0.271779  0.129732  0.039965\n",
              "218552                0      0       1.036303     0.979539  1.677616 -2.250881 -1.596602 -1.280462 -1.442499 -1.149019 -0.322715 -0.507776 -1.621450  1.514427 -0.763805 -0.759704  0.792715 -0.118725  0.271335 -0.612774  0.440331  0.033122 -0.541907  0.251275  0.296533  0.610136 -0.222199  0.029419 -0.050859  0.043675 -0.068126 -0.001449\n",
              "113883                0      0      -0.336608    -0.454966 -0.375661  1.065411  1.290334  0.077485  0.048860 -1.016924  0.670771 -0.058097 -0.360831 -0.502470 -0.246370 -0.184802 -0.085733 -0.386265  0.918106  0.391099  0.021179 -0.111854 -0.089855  0.115476 -0.261546 -0.708766 -0.000438  0.328315 -0.165076  0.072514  0.242205  0.098875\n",
              "212488                0      0      -0.013633     0.927309  1.854913 -0.674926 -0.794425 -0.156048 -0.206845  0.340293 -0.580525  0.119491  0.955014 -0.046254  0.588928  1.239952  0.924751 -0.004665  0.382067  0.601465 -1.084627  0.754039  0.131288  0.056729  0.272924  0.754234  0.042892  0.189734 -0.173060  0.068389 -0.008135 -0.035494\n",
              "\n",
              "[42447 rows x 32 columns]"
            ],
            "text/html": [
              "\n",
              "  <div id=\"df-76ee2ae8-12f5-4508-b5a4-083d3caff66e\" class=\"colab-df-container\">\n",
              "    <div>\n",
              "<style scoped>\n",
              "    .dataframe tbody tr th:only-of-type {\n",
              "        vertical-align: middle;\n",
              "    }\n",
              "\n",
              "    .dataframe tbody tr th {\n",
              "        vertical-align: top;\n",
              "    }\n",
              "\n",
              "    .dataframe thead th {\n",
              "        text-align: right;\n",
              "    }\n",
              "</style>\n",
              "<table border=\"1\" class=\"dataframe\">\n",
              "  <thead>\n",
              "    <tr style=\"text-align: right;\">\n",
              "      <th></th>\n",
              "      <th>Predicted Class</th>\n",
              "      <th>Class</th>\n",
              "      <th>Amount Scaled</th>\n",
              "      <th>Time Scaled</th>\n",
              "      <th>V1</th>\n",
              "      <th>V2</th>\n",
              "      <th>V3</th>\n",
              "      <th>V4</th>\n",
              "      <th>V5</th>\n",
              "      <th>V6</th>\n",
              "      <th>V7</th>\n",
              "      <th>V8</th>\n",
              "      <th>V9</th>\n",
              "      <th>V10</th>\n",
              "      <th>V11</th>\n",
              "      <th>V12</th>\n",
              "      <th>V13</th>\n",
              "      <th>V14</th>\n",
              "      <th>V15</th>\n",
              "      <th>V16</th>\n",
              "      <th>V17</th>\n",
              "      <th>V18</th>\n",
              "      <th>V19</th>\n",
              "      <th>V20</th>\n",
              "      <th>V21</th>\n",
              "      <th>V22</th>\n",
              "      <th>V23</th>\n",
              "      <th>V24</th>\n",
              "      <th>V25</th>\n",
              "      <th>V26</th>\n",
              "      <th>V27</th>\n",
              "      <th>V28</th>\n",
              "    </tr>\n",
              "  </thead>\n",
              "  <tbody>\n",
              "    <tr>\n",
              "      <th>13871</th>\n",
              "      <td>0</td>\n",
              "      <td>0</td>\n",
              "      <td>-0.294706</td>\n",
              "      <td>-1.478915</td>\n",
              "      <td>-1.345153</td>\n",
              "      <td>0.001335</td>\n",
              "      <td>2.811254</td>\n",
              "      <td>-0.761701</td>\n",
              "      <td>0.026696</td>\n",
              "      <td>-0.066165</td>\n",
              "      <td>-0.029167</td>\n",
              "      <td>-0.067116</td>\n",
              "      <td>2.114032</td>\n",
              "      <td>-1.101602</td>\n",
              "      <td>0.320421</td>\n",
              "      <td>-2.681890</td>\n",
              "      <td>0.967194</td>\n",
              "      <td>0.692011</td>\n",
              "      <td>-0.637991</td>\n",
              "      <td>-0.064011</td>\n",
              "      <td>0.619916</td>\n",
              "      <td>-0.446780</td>\n",
              "      <td>-0.799418</td>\n",
              "      <td>-0.204944</td>\n",
              "      <td>-0.249620</td>\n",
              "      <td>-0.198664</td>\n",
              "      <td>-0.083343</td>\n",
              "      <td>0.077386</td>\n",
              "      <td>0.009455</td>\n",
              "      <td>0.849592</td>\n",
              "      <td>-0.459928</td>\n",
              "      <td>-0.096494</td>\n",
              "    </tr>\n",
              "    <tr>\n",
              "      <th>162806</th>\n",
              "      <td>0</td>\n",
              "      <td>0</td>\n",
              "      <td>-0.294187</td>\n",
              "      <td>0.432531</td>\n",
              "      <td>1.900061</td>\n",
              "      <td>0.389143</td>\n",
              "      <td>-1.339856</td>\n",
              "      <td>3.637153</td>\n",
              "      <td>0.740999</td>\n",
              "      <td>0.170255</td>\n",
              "      <td>0.247572</td>\n",
              "      <td>0.105516</td>\n",
              "      <td>-1.018452</td>\n",
              "      <td>1.745975</td>\n",
              "      <td>-0.014082</td>\n",
              "      <td>-1.083081</td>\n",
              "      <td>-2.924572</td>\n",
              "      <td>1.149132</td>\n",
              "      <td>-1.446864</td>\n",
              "      <td>0.660033</td>\n",
              "      <td>-0.651284</td>\n",
              "      <td>0.313332</td>\n",
              "      <td>-1.261439</td>\n",
              "      <td>-0.432927</td>\n",
              "      <td>0.292050</td>\n",
              "      <td>0.737103</td>\n",
              "      <td>-0.012706</td>\n",
              "      <td>0.651982</td>\n",
              "      <td>0.303240</td>\n",
              "      <td>0.251442</td>\n",
              "      <td>-0.087612</td>\n",
              "      <td>-0.071719</td>\n",
              "    </tr>\n",
              "    <tr>\n",
              "      <th>53644</th>\n",
              "      <td>0</td>\n",
              "      <td>0</td>\n",
              "      <td>2.232118</td>\n",
              "      <td>-1.027058</td>\n",
              "      <td>0.058473</td>\n",
              "      <td>-3.172833</td>\n",
              "      <td>0.056879</td>\n",
              "      <td>-1.526842</td>\n",
              "      <td>-1.986415</td>\n",
              "      <td>0.523719</td>\n",
              "      <td>-0.323160</td>\n",
              "      <td>0.061639</td>\n",
              "      <td>0.692010</td>\n",
              "      <td>-0.686550</td>\n",
              "      <td>0.899298</td>\n",
              "      <td>1.791522</td>\n",
              "      <td>1.040328</td>\n",
              "      <td>-0.397442</td>\n",
              "      <td>-0.284255</td>\n",
              "      <td>-2.335874</td>\n",
              "      <td>0.440341</td>\n",
              "      <td>1.211795</td>\n",
              "      <td>0.220343</td>\n",
              "      <td>0.842306</td>\n",
              "      <td>-0.095274</td>\n",
              "      <td>-0.860401</td>\n",
              "      <td>-0.515467</td>\n",
              "      <td>-0.231847</td>\n",
              "      <td>0.038395</td>\n",
              "      <td>-0.139086</td>\n",
              "      <td>-0.027290</td>\n",
              "      <td>0.125233</td>\n",
              "    </tr>\n",
              "    <tr>\n",
              "      <th>52154</th>\n",
              "      <td>0</td>\n",
              "      <td>0</td>\n",
              "      <td>-0.290878</td>\n",
              "      <td>-1.043569</td>\n",
              "      <td>-0.559218</td>\n",
              "      <td>0.831137</td>\n",
              "      <td>2.200541</td>\n",
              "      <td>0.961712</td>\n",
              "      <td>-0.777673</td>\n",
              "      <td>-0.032790</td>\n",
              "      <td>-0.013474</td>\n",
              "      <td>0.150251</td>\n",
              "      <td>-0.114770</td>\n",
              "      <td>0.087420</td>\n",
              "      <td>-0.080991</td>\n",
              "      <td>-0.928189</td>\n",
              "      <td>-1.555775</td>\n",
              "      <td>0.387904</td>\n",
              "      <td>2.483466</td>\n",
              "      <td>-0.499870</td>\n",
              "      <td>0.577585</td>\n",
              "      <td>-0.112558</td>\n",
              "      <td>1.033820</td>\n",
              "      <td>-0.004187</td>\n",
              "      <td>0.060836</td>\n",
              "      <td>0.091310</td>\n",
              "      <td>0.030439</td>\n",
              "      <td>0.377016</td>\n",
              "      <td>-0.635555</td>\n",
              "      <td>0.434908</td>\n",
              "      <td>-0.131202</td>\n",
              "      <td>0.105883</td>\n",
              "    </tr>\n",
              "    <tr>\n",
              "      <th>29314</th>\n",
              "      <td>0</td>\n",
              "      <td>0</td>\n",
              "      <td>-0.350841</td>\n",
              "      <td>-1.251733</td>\n",
              "      <td>-0.634639</td>\n",
              "      <td>0.775521</td>\n",
              "      <td>1.728206</td>\n",
              "      <td>-1.391975</td>\n",
              "      <td>-0.144804</td>\n",
              "      <td>-0.740882</td>\n",
              "      <td>0.529490</td>\n",
              "      <td>0.093510</td>\n",
              "      <td>-0.285506</td>\n",
              "      <td>-0.561915</td>\n",
              "      <td>1.222256</td>\n",
              "      <td>0.674518</td>\n",
              "      <td>-0.030743</td>\n",
              "      <td>0.133092</td>\n",
              "      <td>-0.200318</td>\n",
              "      <td>0.793464</td>\n",
              "      <td>-0.928952</td>\n",
              "      <td>0.139700</td>\n",
              "      <td>-0.396182</td>\n",
              "      <td>0.038550</td>\n",
              "      <td>-0.032567</td>\n",
              "      <td>-0.068968</td>\n",
              "      <td>-0.094961</td>\n",
              "      <td>0.365092</td>\n",
              "      <td>-0.372643</td>\n",
              "      <td>0.701573</td>\n",
              "      <td>0.256163</td>\n",
              "      <td>0.163883</td>\n",
              "    </tr>\n",
              "    <tr>\n",
              "      <th>...</th>\n",
              "      <td>...</td>\n",
              "      <td>...</td>\n",
              "      <td>...</td>\n",
              "      <td>...</td>\n",
              "      <td>...</td>\n",
              "      <td>...</td>\n",
              "      <td>...</td>\n",
              "      <td>...</td>\n",
              "      <td>...</td>\n",
              "      <td>...</td>\n",
              "      <td>...</td>\n",
              "      <td>...</td>\n",
              "      <td>...</td>\n",
              "      <td>...</td>\n",
              "      <td>...</td>\n",
              "      <td>...</td>\n",
              "      <td>...</td>\n",
              "      <td>...</td>\n",
              "      <td>...</td>\n",
              "      <td>...</td>\n",
              "      <td>...</td>\n",
              "      <td>...</td>\n",
              "      <td>...</td>\n",
              "      <td>...</td>\n",
              "      <td>...</td>\n",
              "      <td>...</td>\n",
              "      <td>...</td>\n",
              "      <td>...</td>\n",
              "      <td>...</td>\n",
              "      <td>...</td>\n",
              "      <td>...</td>\n",
              "      <td>...</td>\n",
              "    </tr>\n",
              "    <tr>\n",
              "      <th>44530</th>\n",
              "      <td>0</td>\n",
              "      <td>0</td>\n",
              "      <td>0.292477</td>\n",
              "      <td>-1.113386</td>\n",
              "      <td>0.801798</td>\n",
              "      <td>-0.386188</td>\n",
              "      <td>0.668860</td>\n",
              "      <td>1.252723</td>\n",
              "      <td>-0.674806</td>\n",
              "      <td>-0.030171</td>\n",
              "      <td>-0.131538</td>\n",
              "      <td>0.203593</td>\n",
              "      <td>0.025712</td>\n",
              "      <td>0.108457</td>\n",
              "      <td>1.536118</td>\n",
              "      <td>0.412438</td>\n",
              "      <td>-1.309323</td>\n",
              "      <td>0.753530</td>\n",
              "      <td>0.827051</td>\n",
              "      <td>0.341183</td>\n",
              "      <td>-0.383562</td>\n",
              "      <td>-0.031312</td>\n",
              "      <td>-0.609441</td>\n",
              "      <td>0.077260</td>\n",
              "      <td>-0.019526</td>\n",
              "      <td>-0.489765</td>\n",
              "      <td>0.034173</td>\n",
              "      <td>0.145801</td>\n",
              "      <td>0.060479</td>\n",
              "      <td>-0.619874</td>\n",
              "      <td>0.010446</td>\n",
              "      <td>0.047836</td>\n",
              "    </tr>\n",
              "    <tr>\n",
              "      <th>83549</th>\n",
              "      <td>0</td>\n",
              "      <td>0</td>\n",
              "      <td>-0.061914</td>\n",
              "      <td>-0.735810</td>\n",
              "      <td>0.997685</td>\n",
              "      <td>-1.104295</td>\n",
              "      <td>1.665233</td>\n",
              "      <td>1.007489</td>\n",
              "      <td>-1.596507</td>\n",
              "      <td>1.304956</td>\n",
              "      <td>-1.436864</td>\n",
              "      <td>0.544889</td>\n",
              "      <td>0.305480</td>\n",
              "      <td>0.517911</td>\n",
              "      <td>0.247137</td>\n",
              "      <td>1.282420</td>\n",
              "      <td>-0.008543</td>\n",
              "      <td>-0.950288</td>\n",
              "      <td>-2.252489</td>\n",
              "      <td>-2.169438</td>\n",
              "      <td>0.630633</td>\n",
              "      <td>1.065343</td>\n",
              "      <td>-0.611992</td>\n",
              "      <td>-0.466637</td>\n",
              "      <td>-0.376937</td>\n",
              "      <td>-0.264589</td>\n",
              "      <td>-0.027246</td>\n",
              "      <td>0.024319</td>\n",
              "      <td>0.311113</td>\n",
              "      <td>-0.271779</td>\n",
              "      <td>0.129732</td>\n",
              "      <td>0.039965</td>\n",
              "    </tr>\n",
              "    <tr>\n",
              "      <th>218552</th>\n",
              "      <td>0</td>\n",
              "      <td>0</td>\n",
              "      <td>1.036303</td>\n",
              "      <td>0.979539</td>\n",
              "      <td>1.677616</td>\n",
              "      <td>-2.250881</td>\n",
              "      <td>-1.596602</td>\n",
              "      <td>-1.280462</td>\n",
              "      <td>-1.442499</td>\n",
              "      <td>-1.149019</td>\n",
              "      <td>-0.322715</td>\n",
              "      <td>-0.507776</td>\n",
              "      <td>-1.621450</td>\n",
              "      <td>1.514427</td>\n",
              "      <td>-0.763805</td>\n",
              "      <td>-0.759704</td>\n",
              "      <td>0.792715</td>\n",
              "      <td>-0.118725</td>\n",
              "      <td>0.271335</td>\n",
              "      <td>-0.612774</td>\n",
              "      <td>0.440331</td>\n",
              "      <td>0.033122</td>\n",
              "      <td>-0.541907</td>\n",
              "      <td>0.251275</td>\n",
              "      <td>0.296533</td>\n",
              "      <td>0.610136</td>\n",
              "      <td>-0.222199</td>\n",
              "      <td>0.029419</td>\n",
              "      <td>-0.050859</td>\n",
              "      <td>0.043675</td>\n",
              "      <td>-0.068126</td>\n",
              "      <td>-0.001449</td>\n",
              "    </tr>\n",
              "    <tr>\n",
              "      <th>113883</th>\n",
              "      <td>0</td>\n",
              "      <td>0</td>\n",
              "      <td>-0.336608</td>\n",
              "      <td>-0.454966</td>\n",
              "      <td>-0.375661</td>\n",
              "      <td>1.065411</td>\n",
              "      <td>1.290334</td>\n",
              "      <td>0.077485</td>\n",
              "      <td>0.048860</td>\n",
              "      <td>-1.016924</td>\n",
              "      <td>0.670771</td>\n",
              "      <td>-0.058097</td>\n",
              "      <td>-0.360831</td>\n",
              "      <td>-0.502470</td>\n",
              "      <td>-0.246370</td>\n",
              "      <td>-0.184802</td>\n",
              "      <td>-0.085733</td>\n",
              "      <td>-0.386265</td>\n",
              "      <td>0.918106</td>\n",
              "      <td>0.391099</td>\n",
              "      <td>0.021179</td>\n",
              "      <td>-0.111854</td>\n",
              "      <td>-0.089855</td>\n",
              "      <td>0.115476</td>\n",
              "      <td>-0.261546</td>\n",
              "      <td>-0.708766</td>\n",
              "      <td>-0.000438</td>\n",
              "      <td>0.328315</td>\n",
              "      <td>-0.165076</td>\n",
              "      <td>0.072514</td>\n",
              "      <td>0.242205</td>\n",
              "      <td>0.098875</td>\n",
              "    </tr>\n",
              "    <tr>\n",
              "      <th>212488</th>\n",
              "      <td>0</td>\n",
              "      <td>0</td>\n",
              "      <td>-0.013633</td>\n",
              "      <td>0.927309</td>\n",
              "      <td>1.854913</td>\n",
              "      <td>-0.674926</td>\n",
              "      <td>-0.794425</td>\n",
              "      <td>-0.156048</td>\n",
              "      <td>-0.206845</td>\n",
              "      <td>0.340293</td>\n",
              "      <td>-0.580525</td>\n",
              "      <td>0.119491</td>\n",
              "      <td>0.955014</td>\n",
              "      <td>-0.046254</td>\n",
              "      <td>0.588928</td>\n",
              "      <td>1.239952</td>\n",
              "      <td>0.924751</td>\n",
              "      <td>-0.004665</td>\n",
              "      <td>0.382067</td>\n",
              "      <td>0.601465</td>\n",
              "      <td>-1.084627</td>\n",
              "      <td>0.754039</td>\n",
              "      <td>0.131288</td>\n",
              "      <td>0.056729</td>\n",
              "      <td>0.272924</td>\n",
              "      <td>0.754234</td>\n",
              "      <td>0.042892</td>\n",
              "      <td>0.189734</td>\n",
              "      <td>-0.173060</td>\n",
              "      <td>0.068389</td>\n",
              "      <td>-0.008135</td>\n",
              "      <td>-0.035494</td>\n",
              "    </tr>\n",
              "  </tbody>\n",
              "</table>\n",
              "<p>42447 rows × 32 columns</p>\n",
              "</div>\n",
              "    <div class=\"colab-df-buttons\">\n",
              "\n",
              "  <div class=\"colab-df-container\">\n",
              "    <button class=\"colab-df-convert\" onclick=\"convertToInteractive('df-76ee2ae8-12f5-4508-b5a4-083d3caff66e')\"\n",
              "            title=\"Convert this dataframe to an interactive table.\"\n",
              "            style=\"display:none;\">\n",
              "\n",
              "  <svg xmlns=\"http://www.w3.org/2000/svg\" height=\"24px\" viewBox=\"0 -960 960 960\">\n",
              "    <path d=\"M120-120v-720h720v720H120Zm60-500h600v-160H180v160Zm220 220h160v-160H400v160Zm0 220h160v-160H400v160ZM180-400h160v-160H180v160Zm440 0h160v-160H620v160ZM180-180h160v-160H180v160Zm440 0h160v-160H620v160Z\"/>\n",
              "  </svg>\n",
              "    </button>\n",
              "\n",
              "  <style>\n",
              "    .colab-df-container {\n",
              "      display:flex;\n",
              "      gap: 12px;\n",
              "    }\n",
              "\n",
              "    .colab-df-convert {\n",
              "      background-color: #E8F0FE;\n",
              "      border: none;\n",
              "      border-radius: 50%;\n",
              "      cursor: pointer;\n",
              "      display: none;\n",
              "      fill: #1967D2;\n",
              "      height: 32px;\n",
              "      padding: 0 0 0 0;\n",
              "      width: 32px;\n",
              "    }\n",
              "\n",
              "    .colab-df-convert:hover {\n",
              "      background-color: #E2EBFA;\n",
              "      box-shadow: 0px 1px 2px rgba(60, 64, 67, 0.3), 0px 1px 3px 1px rgba(60, 64, 67, 0.15);\n",
              "      fill: #174EA6;\n",
              "    }\n",
              "\n",
              "    .colab-df-buttons div {\n",
              "      margin-bottom: 4px;\n",
              "    }\n",
              "\n",
              "    [theme=dark] .colab-df-convert {\n",
              "      background-color: #3B4455;\n",
              "      fill: #D2E3FC;\n",
              "    }\n",
              "\n",
              "    [theme=dark] .colab-df-convert:hover {\n",
              "      background-color: #434B5C;\n",
              "      box-shadow: 0px 1px 3px 1px rgba(0, 0, 0, 0.15);\n",
              "      filter: drop-shadow(0px 1px 2px rgba(0, 0, 0, 0.3));\n",
              "      fill: #FFFFFF;\n",
              "    }\n",
              "  </style>\n",
              "\n",
              "    <script>\n",
              "      const buttonEl =\n",
              "        document.querySelector('#df-76ee2ae8-12f5-4508-b5a4-083d3caff66e button.colab-df-convert');\n",
              "      buttonEl.style.display =\n",
              "        google.colab.kernel.accessAllowed ? 'block' : 'none';\n",
              "\n",
              "      async function convertToInteractive(key) {\n",
              "        const element = document.querySelector('#df-76ee2ae8-12f5-4508-b5a4-083d3caff66e');\n",
              "        const dataTable =\n",
              "          await google.colab.kernel.invokeFunction('convertToInteractive',\n",
              "                                                    [key], {});\n",
              "        if (!dataTable) return;\n",
              "\n",
              "        const docLinkHtml = 'Like what you see? Visit the ' +\n",
              "          '<a target=\"_blank\" href=https://colab.research.google.com/notebooks/data_table.ipynb>data table notebook</a>'\n",
              "          + ' to learn more about interactive tables.';\n",
              "        element.innerHTML = '';\n",
              "        dataTable['output_type'] = 'display_data';\n",
              "        await google.colab.output.renderOutput(dataTable, element);\n",
              "        const docLink = document.createElement('div');\n",
              "        docLink.innerHTML = docLinkHtml;\n",
              "        element.appendChild(docLink);\n",
              "      }\n",
              "    </script>\n",
              "  </div>\n",
              "\n",
              "\n",
              "<div id=\"df-e84a8abc-2df3-49e3-aba9-ca0690f6f01e\">\n",
              "  <button class=\"colab-df-quickchart\" onclick=\"quickchart('df-e84a8abc-2df3-49e3-aba9-ca0690f6f01e')\"\n",
              "            title=\"Suggest charts\"\n",
              "            style=\"display:none;\">\n",
              "\n",
              "<svg xmlns=\"http://www.w3.org/2000/svg\" height=\"24px\"viewBox=\"0 0 24 24\"\n",
              "     width=\"24px\">\n",
              "    <g>\n",
              "        <path d=\"M19 3H5c-1.1 0-2 .9-2 2v14c0 1.1.9 2 2 2h14c1.1 0 2-.9 2-2V5c0-1.1-.9-2-2-2zM9 17H7v-7h2v7zm4 0h-2V7h2v10zm4 0h-2v-4h2v4z\"/>\n",
              "    </g>\n",
              "</svg>\n",
              "  </button>\n",
              "\n",
              "<style>\n",
              "  .colab-df-quickchart {\n",
              "      --bg-color: #E8F0FE;\n",
              "      --fill-color: #1967D2;\n",
              "      --hover-bg-color: #E2EBFA;\n",
              "      --hover-fill-color: #174EA6;\n",
              "      --disabled-fill-color: #AAA;\n",
              "      --disabled-bg-color: #DDD;\n",
              "  }\n",
              "\n",
              "  [theme=dark] .colab-df-quickchart {\n",
              "      --bg-color: #3B4455;\n",
              "      --fill-color: #D2E3FC;\n",
              "      --hover-bg-color: #434B5C;\n",
              "      --hover-fill-color: #FFFFFF;\n",
              "      --disabled-bg-color: #3B4455;\n",
              "      --disabled-fill-color: #666;\n",
              "  }\n",
              "\n",
              "  .colab-df-quickchart {\n",
              "    background-color: var(--bg-color);\n",
              "    border: none;\n",
              "    border-radius: 50%;\n",
              "    cursor: pointer;\n",
              "    display: none;\n",
              "    fill: var(--fill-color);\n",
              "    height: 32px;\n",
              "    padding: 0;\n",
              "    width: 32px;\n",
              "  }\n",
              "\n",
              "  .colab-df-quickchart:hover {\n",
              "    background-color: var(--hover-bg-color);\n",
              "    box-shadow: 0 1px 2px rgba(60, 64, 67, 0.3), 0 1px 3px 1px rgba(60, 64, 67, 0.15);\n",
              "    fill: var(--button-hover-fill-color);\n",
              "  }\n",
              "\n",
              "  .colab-df-quickchart-complete:disabled,\n",
              "  .colab-df-quickchart-complete:disabled:hover {\n",
              "    background-color: var(--disabled-bg-color);\n",
              "    fill: var(--disabled-fill-color);\n",
              "    box-shadow: none;\n",
              "  }\n",
              "\n",
              "  .colab-df-spinner {\n",
              "    border: 2px solid var(--fill-color);\n",
              "    border-color: transparent;\n",
              "    border-bottom-color: var(--fill-color);\n",
              "    animation:\n",
              "      spin 1s steps(1) infinite;\n",
              "  }\n",
              "\n",
              "  @keyframes spin {\n",
              "    0% {\n",
              "      border-color: transparent;\n",
              "      border-bottom-color: var(--fill-color);\n",
              "      border-left-color: var(--fill-color);\n",
              "    }\n",
              "    20% {\n",
              "      border-color: transparent;\n",
              "      border-left-color: var(--fill-color);\n",
              "      border-top-color: var(--fill-color);\n",
              "    }\n",
              "    30% {\n",
              "      border-color: transparent;\n",
              "      border-left-color: var(--fill-color);\n",
              "      border-top-color: var(--fill-color);\n",
              "      border-right-color: var(--fill-color);\n",
              "    }\n",
              "    40% {\n",
              "      border-color: transparent;\n",
              "      border-right-color: var(--fill-color);\n",
              "      border-top-color: var(--fill-color);\n",
              "    }\n",
              "    60% {\n",
              "      border-color: transparent;\n",
              "      border-right-color: var(--fill-color);\n",
              "    }\n",
              "    80% {\n",
              "      border-color: transparent;\n",
              "      border-right-color: var(--fill-color);\n",
              "      border-bottom-color: var(--fill-color);\n",
              "    }\n",
              "    90% {\n",
              "      border-color: transparent;\n",
              "      border-bottom-color: var(--fill-color);\n",
              "    }\n",
              "  }\n",
              "</style>\n",
              "\n",
              "  <script>\n",
              "    async function quickchart(key) {\n",
              "      const quickchartButtonEl =\n",
              "        document.querySelector('#' + key + ' button');\n",
              "      quickchartButtonEl.disabled = true;  // To prevent multiple clicks.\n",
              "      quickchartButtonEl.classList.add('colab-df-spinner');\n",
              "      try {\n",
              "        const charts = await google.colab.kernel.invokeFunction(\n",
              "            'suggestCharts', [key], {});\n",
              "      } catch (error) {\n",
              "        console.error('Error during call to suggestCharts:', error);\n",
              "      }\n",
              "      quickchartButtonEl.classList.remove('colab-df-spinner');\n",
              "      quickchartButtonEl.classList.add('colab-df-quickchart-complete');\n",
              "    }\n",
              "    (() => {\n",
              "      let quickchartButtonEl =\n",
              "        document.querySelector('#df-e84a8abc-2df3-49e3-aba9-ca0690f6f01e button');\n",
              "      quickchartButtonEl.style.display =\n",
              "        google.colab.kernel.accessAllowed ? 'block' : 'none';\n",
              "    })();\n",
              "  </script>\n",
              "</div>\n",
              "\n",
              "  <div id=\"id_c3a481b1-bb54-4ec3-9a2d-99664bc8a5fe\">\n",
              "    <style>\n",
              "      .colab-df-generate {\n",
              "        background-color: #E8F0FE;\n",
              "        border: none;\n",
              "        border-radius: 50%;\n",
              "        cursor: pointer;\n",
              "        display: none;\n",
              "        fill: #1967D2;\n",
              "        height: 32px;\n",
              "        padding: 0 0 0 0;\n",
              "        width: 32px;\n",
              "      }\n",
              "\n",
              "      .colab-df-generate:hover {\n",
              "        background-color: #E2EBFA;\n",
              "        box-shadow: 0px 1px 2px rgba(60, 64, 67, 0.3), 0px 1px 3px 1px rgba(60, 64, 67, 0.15);\n",
              "        fill: #174EA6;\n",
              "      }\n",
              "\n",
              "      [theme=dark] .colab-df-generate {\n",
              "        background-color: #3B4455;\n",
              "        fill: #D2E3FC;\n",
              "      }\n",
              "\n",
              "      [theme=dark] .colab-df-generate:hover {\n",
              "        background-color: #434B5C;\n",
              "        box-shadow: 0px 1px 3px 1px rgba(0, 0, 0, 0.15);\n",
              "        filter: drop-shadow(0px 1px 2px rgba(0, 0, 0, 0.3));\n",
              "        fill: #FFFFFF;\n",
              "      }\n",
              "    </style>\n",
              "    <button class=\"colab-df-generate\" onclick=\"generateWithVariable('test_df')\"\n",
              "            title=\"Generate code using this dataframe.\"\n",
              "            style=\"display:none;\">\n",
              "\n",
              "  <svg xmlns=\"http://www.w3.org/2000/svg\" height=\"24px\"viewBox=\"0 0 24 24\"\n",
              "       width=\"24px\">\n",
              "    <path d=\"M7,19H8.4L18.45,9,17,7.55,7,17.6ZM5,21V16.75L18.45,3.32a2,2,0,0,1,2.83,0l1.4,1.43a1.91,1.91,0,0,1,.58,1.4,1.91,1.91,0,0,1-.58,1.4L9.25,21ZM18.45,9,17,7.55Zm-12,3A5.31,5.31,0,0,0,4.9,8.1,5.31,5.31,0,0,0,1,6.5,5.31,5.31,0,0,0,4.9,4.9,5.31,5.31,0,0,0,6.5,1,5.31,5.31,0,0,0,8.1,4.9,5.31,5.31,0,0,0,12,6.5,5.46,5.46,0,0,0,6.5,12Z\"/>\n",
              "  </svg>\n",
              "    </button>\n",
              "    <script>\n",
              "      (() => {\n",
              "      const buttonEl =\n",
              "        document.querySelector('#id_c3a481b1-bb54-4ec3-9a2d-99664bc8a5fe button.colab-df-generate');\n",
              "      buttonEl.style.display =\n",
              "        google.colab.kernel.accessAllowed ? 'block' : 'none';\n",
              "\n",
              "      buttonEl.onclick = () => {\n",
              "        google.colab.notebook.generateWithVariable('test_df');\n",
              "      }\n",
              "      })();\n",
              "    </script>\n",
              "  </div>\n",
              "\n",
              "    </div>\n",
              "  </div>\n"
            ],
            "application/vnd.google.colaboratory.intrinsic+json": {
              "type": "dataframe",
              "variable_name": "test_df"
            }
          },
          "metadata": {},
          "execution_count": 35
        }
      ],
      "source": [
        "test_df"
      ]
    },
    {
      "cell_type": "code",
      "execution_count": 36,
      "metadata": {
        "collapsed": true,
        "id": "EoU8dQfhdJsX",
        "colab": {
          "base_uri": "https://localhost:8080/",
          "height": 176
        },
        "outputId": "8108aae6-62ad-4c4c-a7e4-54c2cc0008da"
      },
      "outputs": [
        {
          "output_type": "execute_result",
          "data": {
            "text/plain": [
              "Predicted Class\n",
              "0    42300\n",
              "1      147\n",
              "Name: count, dtype: int64"
            ],
            "text/html": [
              "<div>\n",
              "<style scoped>\n",
              "    .dataframe tbody tr th:only-of-type {\n",
              "        vertical-align: middle;\n",
              "    }\n",
              "\n",
              "    .dataframe tbody tr th {\n",
              "        vertical-align: top;\n",
              "    }\n",
              "\n",
              "    .dataframe thead th {\n",
              "        text-align: right;\n",
              "    }\n",
              "</style>\n",
              "<table border=\"1\" class=\"dataframe\">\n",
              "  <thead>\n",
              "    <tr style=\"text-align: right;\">\n",
              "      <th></th>\n",
              "      <th>count</th>\n",
              "    </tr>\n",
              "    <tr>\n",
              "      <th>Predicted Class</th>\n",
              "      <th></th>\n",
              "    </tr>\n",
              "  </thead>\n",
              "  <tbody>\n",
              "    <tr>\n",
              "      <th>0</th>\n",
              "      <td>42300</td>\n",
              "    </tr>\n",
              "    <tr>\n",
              "      <th>1</th>\n",
              "      <td>147</td>\n",
              "    </tr>\n",
              "  </tbody>\n",
              "</table>\n",
              "</div><br><label><b>dtype:</b> int64</label>"
            ]
          },
          "metadata": {},
          "execution_count": 36
        }
      ],
      "source": [
        "test_df[\"Predicted Class\"].value_counts()"
      ]
    },
    {
      "cell_type": "markdown",
      "metadata": {
        "id": "g40F9RsE_ztx"
      },
      "source": [
        "###4.3.2 Results"
      ]
    },
    {
      "cell_type": "markdown",
      "metadata": {
        "id": "VKCWKqiuAAgK"
      },
      "source": [
        "####Classification Metrics\n",
        "At the beginning of the notebook, we specified that our **recall** is by far the most important classification metric, and that having a high recall was the primary objective of our model. Let's see what result we got:"
      ]
    },
    {
      "cell_type": "code",
      "execution_count": 37,
      "metadata": {
        "id": "_OMhB8da_rdR",
        "colab": {
          "base_uri": "https://localhost:8080/"
        },
        "outputId": "4a7267a6-44be-44aa-af7e-b507341d9f98"
      },
      "outputs": [
        {
          "output_type": "stream",
          "name": "stdout",
          "text": [
            "Recall: 0.9\n"
          ]
        }
      ],
      "source": [
        "recall = true_positive/(true_positive+false_negative)\n",
        "print(f\"Recall: {recall}\")"
      ]
    },
    {
      "cell_type": "markdown",
      "metadata": {
        "id": "verUAf5yUG8H"
      },
      "source": [
        "#####**Great!**\n",
        "#####Remember that recall is the amount of the minority class that our model is able to successfully predict. **Our model is able successfully detect 90% of fraudulent credit card transactions!**"
      ]
    },
    {
      "cell_type": "markdown",
      "metadata": {
        "id": "GczoZ6JdY81t"
      },
      "source": [
        "#####Let's have a quick look at the other statistics:"
      ]
    },
    {
      "cell_type": "code",
      "execution_count": 38,
      "metadata": {
        "id": "R3Wen09MT3B3",
        "colab": {
          "base_uri": "https://localhost:8080/"
        },
        "outputId": "9f8e8cef-881a-4395-baae-38b3cf729a6f"
      },
      "outputs": [
        {
          "output_type": "stream",
          "name": "stdout",
          "text": [
            "Accuracy: 0.9978561500223808\n",
            "Precision: 0.42857142857142855\n",
            "F1 Score: 0.5806451612903225\n"
          ]
        }
      ],
      "source": [
        "accuracy = (true_positive+true_negative)/(len(test_df))\n",
        "precision = true_positive/(true_positive+false_positive)\n",
        "f1_score = 2 *((precision*recall)/(precision+recall))\n",
        "print(f\"Accuracy: {accuracy}\")\n",
        "print(f\"Precision: {precision}\")\n",
        "print(f\"F1 Score: {f1_score}\")"
      ]
    },
    {
      "cell_type": "code",
      "execution_count": 39,
      "metadata": {
        "id": "Awt9zHcbDimK",
        "colab": {
          "base_uri": "https://localhost:8080/",
          "height": 477
        },
        "outputId": "35c7270c-b4f3-48bc-c17d-d199bad8eab8"
      },
      "outputs": [
        {
          "output_type": "display_data",
          "data": {
            "text/plain": [
              "<Figure size 640x480 with 1 Axes>"
            ],
            "image/png": "[encoded data removed]"
          },
          "metadata": {}
        }
      ],
      "source": [
        "from sklearn.metrics import roc_curve, auc, log_loss\n",
        "\n",
        "fpr, tpr, _ = roc_curve(test_df[\"Class\"], test_df[\"Predicted Class\"])\n",
        "roc_auc = auc(fpr, tpr)\n",
        "\n",
        "plt.plot(fpr, tpr, lw=2, color=\"blue\", label=\"AUC = %0.2f\" % roc_auc)\n",
        "plt.plot([0, 1], [0, 1], lw=2, color=\"green\", linestyle=\"dashed\")\n",
        "\n",
        "plt.xlim([0.0, 1.0])\n",
        "plt.ylim([0.0, 1.0])\n",
        "plt.xlabel(\"False Positive Rate\")\n",
        "plt.ylabel(\"True Positive Rate\")\n",
        "plt.title(\"ROC Curve\")\n",
        "plt.legend(loc=\"lower right\")\n",
        "\n",
        "plt.show()\n"
      ]
    },
    {
      "cell_type": "markdown",
      "metadata": {
        "id": "oMVr0_tfUlvM"
      },
      "source": [
        "#####Our accuracy and AUC scores are fantastic!\n",
        "#####Our precision and F1 score aren't as good as our recall. They also aren't bad. And they also aren't as important. The important thing is that our recall is great. As long as the number of false positives isn't too high and the ratio between false positives/true positives is realistic for a bank, our model works great. Let's confirm that this is the case in a confusion matrix:"
      ]
    },
    {
      "cell_type": "code",
      "execution_count": 40,
      "metadata": {
        "id": "5K4zWVwndWHF",
        "colab": {
          "base_uri": "https://localhost:8080/",
          "height": 569
        },
        "outputId": "bfaf1a98-d4b1-4c5f-df7c-8cfcd5b4cac5"
      },
      "outputs": [
        {
          "output_type": "display_data",
          "data": {
            "text/plain": [
              "<Figure size 800x600 with 2 Axes>"
            ],
            "image/png": "[encoded data removed]"
          },
          "metadata": {}
        }
      ],
      "source": [
        "confusion_matrix = np.array([\n",
        "    [true_positive, false_negative],\n",
        "    [false_positive, true_negative]\n",
        "])\n",
        "\n",
        "confusion_matrix_plot = plt.figure(figsize=(8, 6))\n",
        "sns.heatmap(confusion_matrix, xticklabels=[\"Positive\", \"Negative\"], yticklabels=[\"Positive\", \"Negative\"], annot=True, cmap=\"Greens\", fmt=\"d\")\n",
        "plt.xlabel(\"Predicted\")\n",
        "plt.ylabel(\"Actual\")\n",
        "plt.title(\"Credit Card Fraud Testing DataFrame Confusion Matrix\")\n",
        "plt.show()"
      ]
    },
    {
      "cell_type": "markdown",
      "metadata": {
        "id": "L-KPTir2Xc1I"
      },
      "source": [
        "#Looks great! 🎆"
      ]
    },
    {
      "cell_type": "markdown",
      "metadata": {
        "id": "5oFG-hOgG88-"
      },
      "source": [
        "##### Final sanity check to ensure that the results above add up to their expected values\n",
        "#####The top row should be in the CM (confusion matrix) should add up to the number of fraud values above (and the bottom row of the CM should add up to the number of non-fraud values above)"
      ]
    },
    {
      "cell_type": "code",
      "execution_count": 41,
      "metadata": {
        "id": "dasP7ifm0Srf",
        "colab": {
          "base_uri": "https://localhost:8080/",
          "height": 176
        },
        "outputId": "ad1aff83-4286-4527-ad6b-876c2417d675"
      },
      "outputs": [
        {
          "output_type": "execute_result",
          "data": {
            "text/plain": [
              "Class\n",
              "0    42377\n",
              "1       70\n",
              "Name: count, dtype: int64"
            ],
            "text/html": [
              "<div>\n",
              "<style scoped>\n",
              "    .dataframe tbody tr th:only-of-type {\n",
              "        vertical-align: middle;\n",
              "    }\n",
              "\n",
              "    .dataframe tbody tr th {\n",
              "        vertical-align: top;\n",
              "    }\n",
              "\n",
              "    .dataframe thead th {\n",
              "        text-align: right;\n",
              "    }\n",
              "</style>\n",
              "<table border=\"1\" class=\"dataframe\">\n",
              "  <thead>\n",
              "    <tr style=\"text-align: right;\">\n",
              "      <th></th>\n",
              "      <th>count</th>\n",
              "    </tr>\n",
              "    <tr>\n",
              "      <th>Class</th>\n",
              "      <th></th>\n",
              "    </tr>\n",
              "  </thead>\n",
              "  <tbody>\n",
              "    <tr>\n",
              "      <th>0</th>\n",
              "      <td>42377</td>\n",
              "    </tr>\n",
              "    <tr>\n",
              "      <th>1</th>\n",
              "      <td>70</td>\n",
              "    </tr>\n",
              "  </tbody>\n",
              "</table>\n",
              "</div><br><label><b>dtype:</b> int64</label>"
            ]
          },
          "metadata": {},
          "execution_count": 41
        }
      ],
      "source": [
        "test_df[\"Class\"].value_counts()"
      ]
    },
    {
      "cell_type": "markdown",
      "metadata": {
        "id": "KnYa6WpGXpwP"
      },
      "source": [
        "#5. Conclusion: A Little Bit of Bragging"
      ]
    },
    {
      "cell_type": "markdown",
      "metadata": {
        "id": "_Hu9fOJTXxnm"
      },
      "source": [
        "#####We successfully detected 90% of fraudulent credit card transactions, achieving an AUC of 0.95. We also had an accuracy of over 99%.\n",
        "#####The ratio between true positive and false positive transactions is 3:4 (as a banking customer, for every 3 true fraudulent purchases on your card, there are 4 everyday purchases that accidentally get flagged as fraudulent). This might sound like a lot. However, if you've ever been with a Canadian bank, you'll know they love blasting you with notifications about how your everyday purchases could be fraudulent. In this aspect, this CNN performs much better."
      ]
    },
    {
      "cell_type": "markdown",
      "metadata": {
        "id": "plBw8SyWlqM_"
      },
      "source": [
        "\n",
        "\n",
        "---\n",
        "\n"
      ]
    },
    {
      "cell_type": "markdown",
      "metadata": {
        "id": "Fv5Q-Qi3GbKk"
      },
      "source": [
        "#Thanks for checking out my project. I appreciate your time 🙂"
      ]
    }
  ],
  "metadata": {
    "accelerator": "GPU",
    "colab": {
      "gpuType": "T4",
      "provenance": []
    },
    "kernelspec": {
      "display_name": "Python 3",
      "name": "python3"
    },
    "language_info": {
      "name": "python"
    }
  },
  "nbformat": 4,
  "nbformat_minor": 0
}